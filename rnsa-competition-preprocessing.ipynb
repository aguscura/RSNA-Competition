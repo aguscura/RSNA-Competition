{
 "cells": [
  {
   "cell_type": "markdown",
   "id": "31c3e446",
   "metadata": {
    "papermill": {
     "duration": 0.00629,
     "end_time": "2022-08-02T19:21:56.924837",
     "exception": false,
     "start_time": "2022-08-02T19:21:56.918547",
     "status": "completed"
    },
    "tags": []
   },
   "source": [
    "\n",
    "\n"
   ]
  },
  {
   "cell_type": "markdown",
   "id": "342ce0db",
   "metadata": {
    "papermill": {
     "duration": 0.005025,
     "end_time": "2022-08-02T19:21:56.935354",
     "exception": false,
     "start_time": "2022-08-02T19:21:56.930329",
     "status": "completed"
    },
    "tags": []
   },
   "source": [
    "# Prepare to start <a class=\"anchor\" id=\"prepare\"></a>\n",
    "\n",
    "## Loading packages"
   ]
  },
  {
   "cell_type": "code",
   "execution_count": 1,
   "id": "0f65e731",
   "metadata": {
    "_kg_hide-input": true,
    "execution": {
     "iopub.execute_input": "2022-08-02T19:21:56.947308Z",
     "iopub.status.busy": "2022-08-02T19:21:56.946727Z",
     "iopub.status.idle": "2022-08-02T19:21:56.958140Z",
     "shell.execute_reply": "2022-08-02T19:21:56.957139Z"
    },
    "papermill": {
     "duration": 0.020061,
     "end_time": "2022-08-02T19:21:56.960476",
     "exception": false,
     "start_time": "2022-08-02T19:21:56.940415",
     "status": "completed"
    },
    "tags": []
   },
   "outputs": [],
   "source": [
    "import os\n",
    "\n",
    "import pandas as pd\n",
    "import numpy as np\n",
    "import matplotlib.pyplot as plt"
   ]
  },
  {
   "cell_type": "markdown",
   "id": "15fd252a",
   "metadata": {
    "papermill": {
     "duration": 0.004869,
     "end_time": "2022-08-02T19:21:56.970505",
     "exception": false,
     "start_time": "2022-08-02T19:21:56.965636",
     "status": "completed"
    },
    "tags": []
   },
   "source": [
    "## Loading data"
   ]
  },
  {
   "cell_type": "code",
   "execution_count": 2,
   "id": "8881e779",
   "metadata": {
    "execution": {
     "iopub.execute_input": "2022-08-02T19:21:56.982463Z",
     "iopub.status.busy": "2022-08-02T19:21:56.982200Z",
     "iopub.status.idle": "2022-08-02T19:21:57.000408Z",
     "shell.execute_reply": "2022-08-02T19:21:56.999457Z"
    },
    "papermill": {
     "duration": 0.026645,
     "end_time": "2022-08-02T19:21:57.002669",
     "exception": false,
     "start_time": "2022-08-02T19:21:56.976024",
     "status": "completed"
    },
    "tags": []
   },
   "outputs": [],
   "source": [
    "train = pd.read_csv(\"../input/rsna-2022-cervical-spine-fracture-detection/train.csv\")"
   ]
  },
  {
   "cell_type": "markdown",
   "id": "3458725f",
   "metadata": {
    "papermill": {
     "duration": 0.004906,
     "end_time": "2022-08-02T19:21:57.012661",
     "exception": false,
     "start_time": "2022-08-02T19:21:57.007755",
     "status": "completed"
    },
    "tags": []
   },
   "source": [
    "## What do we know about our training data?"
   ]
  },
  {
   "cell_type": "code",
   "execution_count": 3,
   "id": "f1cad882",
   "metadata": {
    "execution": {
     "iopub.execute_input": "2022-08-02T19:21:57.024308Z",
     "iopub.status.busy": "2022-08-02T19:21:57.024034Z",
     "iopub.status.idle": "2022-08-02T19:21:57.042017Z",
     "shell.execute_reply": "2022-08-02T19:21:57.040942Z"
    },
    "papermill": {
     "duration": 0.026885,
     "end_time": "2022-08-02T19:21:57.044988",
     "exception": false,
     "start_time": "2022-08-02T19:21:57.018103",
     "status": "completed"
    },
    "tags": []
   },
   "outputs": [
    {
     "data": {
      "text/html": [
       "<div>\n",
       "<style scoped>\n",
       "    .dataframe tbody tr th:only-of-type {\n",
       "        vertical-align: middle;\n",
       "    }\n",
       "\n",
       "    .dataframe tbody tr th {\n",
       "        vertical-align: top;\n",
       "    }\n",
       "\n",
       "    .dataframe thead th {\n",
       "        text-align: right;\n",
       "    }\n",
       "</style>\n",
       "<table border=\"1\" class=\"dataframe\">\n",
       "  <thead>\n",
       "    <tr style=\"text-align: right;\">\n",
       "      <th></th>\n",
       "      <th>StudyInstanceUID</th>\n",
       "      <th>patient_overall</th>\n",
       "      <th>C1</th>\n",
       "      <th>C2</th>\n",
       "      <th>C3</th>\n",
       "      <th>C4</th>\n",
       "      <th>C5</th>\n",
       "      <th>C6</th>\n",
       "      <th>C7</th>\n",
       "    </tr>\n",
       "  </thead>\n",
       "  <tbody>\n",
       "    <tr>\n",
       "      <th>0</th>\n",
       "      <td>1.2.826.0.1.3680043.6200</td>\n",
       "      <td>1</td>\n",
       "      <td>1</td>\n",
       "      <td>1</td>\n",
       "      <td>0</td>\n",
       "      <td>0</td>\n",
       "      <td>0</td>\n",
       "      <td>0</td>\n",
       "      <td>0</td>\n",
       "    </tr>\n",
       "    <tr>\n",
       "      <th>1</th>\n",
       "      <td>1.2.826.0.1.3680043.27262</td>\n",
       "      <td>1</td>\n",
       "      <td>0</td>\n",
       "      <td>1</td>\n",
       "      <td>0</td>\n",
       "      <td>0</td>\n",
       "      <td>0</td>\n",
       "      <td>0</td>\n",
       "      <td>0</td>\n",
       "    </tr>\n",
       "    <tr>\n",
       "      <th>2</th>\n",
       "      <td>1.2.826.0.1.3680043.21561</td>\n",
       "      <td>1</td>\n",
       "      <td>0</td>\n",
       "      <td>1</td>\n",
       "      <td>0</td>\n",
       "      <td>0</td>\n",
       "      <td>0</td>\n",
       "      <td>0</td>\n",
       "      <td>0</td>\n",
       "    </tr>\n",
       "    <tr>\n",
       "      <th>3</th>\n",
       "      <td>1.2.826.0.1.3680043.12351</td>\n",
       "      <td>0</td>\n",
       "      <td>0</td>\n",
       "      <td>0</td>\n",
       "      <td>0</td>\n",
       "      <td>0</td>\n",
       "      <td>0</td>\n",
       "      <td>0</td>\n",
       "      <td>0</td>\n",
       "    </tr>\n",
       "    <tr>\n",
       "      <th>4</th>\n",
       "      <td>1.2.826.0.1.3680043.1363</td>\n",
       "      <td>1</td>\n",
       "      <td>0</td>\n",
       "      <td>0</td>\n",
       "      <td>0</td>\n",
       "      <td>0</td>\n",
       "      <td>1</td>\n",
       "      <td>0</td>\n",
       "      <td>0</td>\n",
       "    </tr>\n",
       "  </tbody>\n",
       "</table>\n",
       "</div>"
      ],
      "text/plain": [
       "            StudyInstanceUID  patient_overall  C1  C2  C3  C4  C5  C6  C7\n",
       "0   1.2.826.0.1.3680043.6200                1   1   1   0   0   0   0   0\n",
       "1  1.2.826.0.1.3680043.27262                1   0   1   0   0   0   0   0\n",
       "2  1.2.826.0.1.3680043.21561                1   0   1   0   0   0   0   0\n",
       "3  1.2.826.0.1.3680043.12351                0   0   0   0   0   0   0   0\n",
       "4   1.2.826.0.1.3680043.1363                1   0   0   0   0   1   0   0"
      ]
     },
     "execution_count": 3,
     "metadata": {},
     "output_type": "execute_result"
    }
   ],
   "source": [
    "train.head()"
   ]
  },
  {
   "cell_type": "code",
   "execution_count": 4,
   "id": "3a6fc05e",
   "metadata": {
    "execution": {
     "iopub.execute_input": "2022-08-02T19:21:57.057148Z",
     "iopub.status.busy": "2022-08-02T19:21:57.056871Z",
     "iopub.status.idle": "2022-08-02T19:21:57.062831Z",
     "shell.execute_reply": "2022-08-02T19:21:57.061804Z"
    },
    "papermill": {
     "duration": 0.01515,
     "end_time": "2022-08-02T19:21:57.065762",
     "exception": false,
     "start_time": "2022-08-02T19:21:57.050612",
     "status": "completed"
    },
    "tags": []
   },
   "outputs": [
    {
     "data": {
      "text/plain": [
       "(2019, 9)"
      ]
     },
     "execution_count": 4,
     "metadata": {},
     "output_type": "execute_result"
    }
   ],
   "source": [
    "train.shape"
   ]
  },
  {
   "cell_type": "markdown",
   "id": "ebcc0ce2",
   "metadata": {
    "papermill": {
     "duration": 0.005243,
     "end_time": "2022-08-02T19:21:57.076309",
     "exception": false,
     "start_time": "2022-08-02T19:21:57.071066",
     "status": "completed"
    },
    "tags": []
   },
   "source": [
    "# Images"
   ]
  },
  {
   "cell_type": "code",
   "execution_count": 5,
   "id": "101a3e92",
   "metadata": {
    "execution": {
     "iopub.execute_input": "2022-08-02T19:21:57.088402Z",
     "iopub.status.busy": "2022-08-02T19:21:57.088145Z",
     "iopub.status.idle": "2022-08-02T19:21:57.094620Z",
     "shell.execute_reply": "2022-08-02T19:21:57.093626Z"
    },
    "papermill": {
     "duration": 0.014844,
     "end_time": "2022-08-02T19:21:57.096651",
     "exception": false,
     "start_time": "2022-08-02T19:21:57.081807",
     "status": "completed"
    },
    "tags": []
   },
   "outputs": [
    {
     "data": {
      "text/plain": [
       "' Important concepts about images:\\n        - train_images contains 2019 folders with lot of files inside. Each folder represents one study of one patient.\\n        - each dicom file, contains some metadata of the image itself. One of the parameters we are interested in is the \\'ImagePositionPatient\\'.\\n          It represents the patient position (x,y,z) of each slide image. The z axis is important, because we need to know which vertebrae is shown in \\n          the picture. The \\'z\\' axis tell us the position in the SAGITAL PANE.\\n        - however, all images inside of train_image folder were taken in the AXIAL PANE. So we are seeing an image of some vertebrae but we don\\'t know\\n          exactly which one is. The answer is in the SAGITAL PANE.\\n        - So, to know which bone we are referencing, we need to look at the \"segmentations\" folder \\n        \\n'"
      ]
     },
     "execution_count": 5,
     "metadata": {},
     "output_type": "execute_result"
    }
   ],
   "source": [
    "\"\"\" Important concepts about images:\n",
    "        - train_images contains 2019 folders with lot of files inside. Each folder represents one study of one patient.\n",
    "        - each dicom file, contains some metadata of the image itself. One of the parameters we are interested in is the 'ImagePositionPatient'.\n",
    "          It represents the patient position (x,y,z) of each slide image. The z axis is important, because we need to know which vertebrae is shown in \n",
    "          the picture. The 'z' axis tell us the position in the SAGITAL PANE.\n",
    "        - however, all images inside of train_image folder were taken in the AXIAL PANE. So we are seeing an image of some vertebrae but we don't know\n",
    "          exactly which one is. The answer is in the SAGITAL PANE.\n",
    "        - So, to know which bone we are referencing, we need to look at the \"segmentations\" folder \n",
    "        \n",
    "\"\"\""
   ]
  },
  {
   "cell_type": "markdown",
   "id": "b2f165c3",
   "metadata": {
    "papermill": {
     "duration": 0.007603,
     "end_time": "2022-08-02T19:21:57.109677",
     "exception": false,
     "start_time": "2022-08-02T19:21:57.102074",
     "status": "completed"
    },
    "tags": []
   },
   "source": [
    "# Comparison between segmented images and dicom images"
   ]
  },
  {
   "cell_type": "markdown",
   "id": "f3079897",
   "metadata": {
    "papermill": {
     "duration": 0.005372,
     "end_time": "2022-08-02T19:21:57.120489",
     "exception": false,
     "start_time": "2022-08-02T19:21:57.115117",
     "status": "completed"
    },
    "tags": []
   },
   "source": [
    "**DCOM IMAGE**"
   ]
  },
  {
   "cell_type": "code",
   "execution_count": 6,
   "id": "6894d602",
   "metadata": {
    "execution": {
     "iopub.execute_input": "2022-08-02T19:21:57.132466Z",
     "iopub.status.busy": "2022-08-02T19:21:57.132210Z",
     "iopub.status.idle": "2022-08-02T19:21:57.498984Z",
     "shell.execute_reply": "2022-08-02T19:21:57.498023Z"
    },
    "papermill": {
     "duration": 0.375612,
     "end_time": "2022-08-02T19:21:57.501565",
     "exception": false,
     "start_time": "2022-08-02T19:21:57.125953",
     "status": "completed"
    },
    "tags": []
   },
   "outputs": [
    {
     "name": "stdout",
     "output_type": "stream",
     "text": [
      "../input/rsna-2022-cervical-spine-fracture-detection/train_images/1.2.826.0.1.3680043.21651/201.dcm\n"
     ]
    },
    {
     "data": {
      "text/plain": [
       "<matplotlib.image.AxesImage at 0x7f55084d3850>"
      ]
     },
     "execution_count": 6,
     "metadata": {},
     "output_type": "execute_result"
    },
    {
     "data": {
      "image/png": "[encoded data removed]",
      "text/plain": [
       "<Figure size 432x288 with 1 Axes>"
      ]
     },
     "metadata": {
      "needs_background": "light"
     },
     "output_type": "display_data"
    }
   ],
   "source": [
    "import pydicom as dicom\n",
    "\n",
    "train_path = \"../input/rsna-2022-cervical-spine-fracture-detection/train_images/1.2.826.0.1.3680043.21651\"\n",
    "\n",
    "path_image = train_path + \"/201.dcm\"\n",
    "print(path_image)\n",
    "\n",
    "ds = dicom.dcmread(path_image)\n",
    "plt.imshow(ds.pixel_array)"
   ]
  },
  {
   "cell_type": "code",
   "execution_count": 7,
   "id": "72d86538",
   "metadata": {
    "execution": {
     "iopub.execute_input": "2022-08-02T19:21:57.516409Z",
     "iopub.status.busy": "2022-08-02T19:21:57.516119Z",
     "iopub.status.idle": "2022-08-02T19:21:59.664980Z",
     "shell.execute_reply": "2022-08-02T19:21:59.663319Z"
    },
    "papermill": {
     "duration": 2.159702,
     "end_time": "2022-08-02T19:21:59.668130",
     "exception": false,
     "start_time": "2022-08-02T19:21:57.508428",
     "status": "completed"
    },
    "tags": []
   },
   "outputs": [
    {
     "name": "stdout",
     "output_type": "stream",
     "text": [
      "(510, 512, 512)\n"
     ]
    }
   ],
   "source": [
    "# The segmented 'nii' files will provide us of the target.\n",
    "# Still need to study what this 'transpose' is really doing.\n",
    "import nibabel as nib\n",
    "segmentations = nib.load(\"../input/rsna-2022-cervical-spine-fracture-detection/segmentations/1.2.826.0.1.3680043.21651.nii\").get_fdata()[:, ::-1, ::-1].transpose(2, 1, 0)\n",
    "print(segmentations.shape) # segmentations shape (num_images, height, width) \n",
    "\n",
    "# shape here for the study '1.2.826.0.1.3680043.10633' is 429 images of 512x512 pixels. "
   ]
  },
  {
   "cell_type": "markdown",
   "id": "640e3538",
   "metadata": {
    "papermill": {
     "duration": 0.007808,
     "end_time": "2022-08-02T19:21:59.683456",
     "exception": false,
     "start_time": "2022-08-02T19:21:59.675648",
     "status": "completed"
    },
    "tags": []
   },
   "source": [
    "**Segmented image**"
   ]
  },
  {
   "cell_type": "code",
   "execution_count": 8,
   "id": "ed5589e5",
   "metadata": {
    "execution": {
     "iopub.execute_input": "2022-08-02T19:21:59.698478Z",
     "iopub.status.busy": "2022-08-02T19:21:59.698181Z",
     "iopub.status.idle": "2022-08-02T19:21:59.888238Z",
     "shell.execute_reply": "2022-08-02T19:21:59.887334Z"
    },
    "papermill": {
     "duration": 0.199939,
     "end_time": "2022-08-02T19:21:59.890370",
     "exception": false,
     "start_time": "2022-08-02T19:21:59.690431",
     "status": "completed"
    },
    "tags": []
   },
   "outputs": [
    {
     "data": {
      "image/png": "[encoded data removed]",
      "text/plain": [
       "<Figure size 432x288 with 1 Axes>"
      ]
     },
     "metadata": {
      "needs_background": "light"
     },
     "output_type": "display_data"
    }
   ],
   "source": [
    "plt.imshow(segmentations[200])\n",
    "plt.show()"
   ]
  },
  {
   "cell_type": "code",
   "execution_count": 9,
   "id": "f9cb736a",
   "metadata": {
    "execution": {
     "iopub.execute_input": "2022-08-02T19:21:59.905490Z",
     "iopub.status.busy": "2022-08-02T19:21:59.905218Z",
     "iopub.status.idle": "2022-08-02T19:21:59.918081Z",
     "shell.execute_reply": "2022-08-02T19:21:59.917225Z"
    },
    "papermill": {
     "duration": 0.02267,
     "end_time": "2022-08-02T19:21:59.920106",
     "exception": false,
     "start_time": "2022-08-02T19:21:59.897436",
     "status": "completed"
    },
    "tags": []
   },
   "outputs": [
    {
     "data": {
      "text/plain": [
       "array([0., 1.])"
      ]
     },
     "execution_count": 9,
     "metadata": {},
     "output_type": "execute_result"
    }
   ],
   "source": [
    "np.unique(segmentations[100])"
   ]
  },
  {
   "cell_type": "code",
   "execution_count": 10,
   "id": "5898059e",
   "metadata": {
    "execution": {
     "iopub.execute_input": "2022-08-02T19:21:59.935395Z",
     "iopub.status.busy": "2022-08-02T19:21:59.935125Z",
     "iopub.status.idle": "2022-08-02T19:22:02.543354Z",
     "shell.execute_reply": "2022-08-02T19:22:02.542390Z"
    },
    "papermill": {
     "duration": 2.618701,
     "end_time": "2022-08-02T19:22:02.545760",
     "exception": false,
     "start_time": "2022-08-02T19:21:59.927059",
     "status": "completed"
    },
    "tags": []
   },
   "outputs": [],
   "source": [
    "#Segmentation 200. Indicates 201 dicom file IS REFERENCING C3.\n",
    "vertebrae = []\n",
    "\n",
    "for i in range (0, segmentations.shape[0]):\n",
    "    if (np.unique(segmentations[i]).size == 2):\n",
    "        vertebrae.append(i)"
   ]
  },
  {
   "cell_type": "code",
   "execution_count": 11,
   "id": "35146d37",
   "metadata": {
    "execution": {
     "iopub.execute_input": "2022-08-02T19:22:02.561652Z",
     "iopub.status.busy": "2022-08-02T19:22:02.561342Z",
     "iopub.status.idle": "2022-08-02T19:22:02.569323Z",
     "shell.execute_reply": "2022-08-02T19:22:02.568426Z"
    },
    "papermill": {
     "duration": 0.018299,
     "end_time": "2022-08-02T19:22:02.571573",
     "exception": false,
     "start_time": "2022-08-02T19:22:02.553274",
     "status": "completed"
    },
    "tags": []
   },
   "outputs": [
    {
     "data": {
      "text/plain": [
       "[3,\n",
       " 4,\n",
       " 18,\n",
       " 19,\n",
       " 70,\n",
       " 71,\n",
       " 72,\n",
       " 98,\n",
       " 99,\n",
       " 100,\n",
       " 101,\n",
       " 102,\n",
       " 103,\n",
       " 104,\n",
       " 118,\n",
       " 119,\n",
       " 120,\n",
       " 121,\n",
       " 122,\n",
       " 123,\n",
       " 124,\n",
       " 173,\n",
       " 174,\n",
       " 175,\n",
       " 176,\n",
       " 177,\n",
       " 178,\n",
       " 179,\n",
       " 180,\n",
       " 181,\n",
       " 182,\n",
       " 183,\n",
       " 184,\n",
       " 185,\n",
       " 186,\n",
       " 187,\n",
       " 188,\n",
       " 189,\n",
       " 190,\n",
       " 191,\n",
       " 192,\n",
       " 215,\n",
       " 216,\n",
       " 217,\n",
       " 218,\n",
       " 219,\n",
       " 220,\n",
       " 221,\n",
       " 222,\n",
       " 223,\n",
       " 224,\n",
       " 225,\n",
       " 226,\n",
       " 227,\n",
       " 228,\n",
       " 229,\n",
       " 230,\n",
       " 231,\n",
       " 232,\n",
       " 248,\n",
       " 249,\n",
       " 250,\n",
       " 251,\n",
       " 252,\n",
       " 253,\n",
       " 254,\n",
       " 255,\n",
       " 256,\n",
       " 257,\n",
       " 258,\n",
       " 259,\n",
       " 260,\n",
       " 261,\n",
       " 262,\n",
       " 263,\n",
       " 264,\n",
       " 265,\n",
       " 266,\n",
       " 267,\n",
       " 285,\n",
       " 286,\n",
       " 287,\n",
       " 288,\n",
       " 289,\n",
       " 290,\n",
       " 291,\n",
       " 292,\n",
       " 293,\n",
       " 294,\n",
       " 295,\n",
       " 296,\n",
       " 297,\n",
       " 320,\n",
       " 321,\n",
       " 322,\n",
       " 323,\n",
       " 324,\n",
       " 325,\n",
       " 326,\n",
       " 327,\n",
       " 328,\n",
       " 329,\n",
       " 330,\n",
       " 331,\n",
       " 332,\n",
       " 355,\n",
       " 356,\n",
       " 357,\n",
       " 358,\n",
       " 359,\n",
       " 360,\n",
       " 361,\n",
       " 362,\n",
       " 363,\n",
       " 364,\n",
       " 365,\n",
       " 366,\n",
       " 367,\n",
       " 395,\n",
       " 396,\n",
       " 397,\n",
       " 398,\n",
       " 399,\n",
       " 400,\n",
       " 401,\n",
       " 402,\n",
       " 435,\n",
       " 436,\n",
       " 437,\n",
       " 438,\n",
       " 439,\n",
       " 440,\n",
       " 441,\n",
       " 442,\n",
       " 443,\n",
       " 444,\n",
       " 445,\n",
       " 446,\n",
       " 447,\n",
       " 448,\n",
       " 449,\n",
       " 478,\n",
       " 479,\n",
       " 480,\n",
       " 481,\n",
       " 482,\n",
       " 483,\n",
       " 484,\n",
       " 485,\n",
       " 486,\n",
       " 487,\n",
       " 488,\n",
       " 489,\n",
       " 490,\n",
       " 491,\n",
       " 492,\n",
       " 493,\n",
       " 494,\n",
       " 495,\n",
       " 496,\n",
       " 497,\n",
       " 498,\n",
       " 499,\n",
       " 500,\n",
       " 501,\n",
       " 502,\n",
       " 503,\n",
       " 504,\n",
       " 505,\n",
       " 506,\n",
       " 507,\n",
       " 508,\n",
       " 509]"
      ]
     },
     "execution_count": 11,
     "metadata": {},
     "output_type": "execute_result"
    }
   ],
   "source": [
    "vertebrae"
   ]
  },
  {
   "cell_type": "code",
   "execution_count": 12,
   "id": "ac2b0f2c",
   "metadata": {
    "execution": {
     "iopub.execute_input": "2022-08-02T19:22:02.587959Z",
     "iopub.status.busy": "2022-08-02T19:22:02.587267Z",
     "iopub.status.idle": "2022-08-02T19:22:02.602930Z",
     "shell.execute_reply": "2022-08-02T19:22:02.601940Z"
    },
    "papermill": {
     "duration": 0.02649,
     "end_time": "2022-08-02T19:22:02.605407",
     "exception": false,
     "start_time": "2022-08-02T19:22:02.578917",
     "status": "completed"
    },
    "tags": []
   },
   "outputs": [
    {
     "data": {
      "text/html": [
       "<div>\n",
       "<style scoped>\n",
       "    .dataframe tbody tr th:only-of-type {\n",
       "        vertical-align: middle;\n",
       "    }\n",
       "\n",
       "    .dataframe tbody tr th {\n",
       "        vertical-align: top;\n",
       "    }\n",
       "\n",
       "    .dataframe thead th {\n",
       "        text-align: right;\n",
       "    }\n",
       "</style>\n",
       "<table border=\"1\" class=\"dataframe\">\n",
       "  <thead>\n",
       "    <tr style=\"text-align: right;\">\n",
       "      <th></th>\n",
       "      <th>StudyInstanceUID</th>\n",
       "      <th>patient_overall</th>\n",
       "      <th>C1</th>\n",
       "      <th>C2</th>\n",
       "      <th>C3</th>\n",
       "      <th>C4</th>\n",
       "      <th>C5</th>\n",
       "      <th>C6</th>\n",
       "      <th>C7</th>\n",
       "    </tr>\n",
       "  </thead>\n",
       "  <tbody>\n",
       "    <tr>\n",
       "      <th>654</th>\n",
       "      <td>1.2.826.0.1.3680043.780</td>\n",
       "      <td>1</td>\n",
       "      <td>0</td>\n",
       "      <td>1</td>\n",
       "      <td>0</td>\n",
       "      <td>0</td>\n",
       "      <td>0</td>\n",
       "      <td>0</td>\n",
       "      <td>0</td>\n",
       "    </tr>\n",
       "  </tbody>\n",
       "</table>\n",
       "</div>"
      ],
      "text/plain": [
       "            StudyInstanceUID  patient_overall  C1  C2  C3  C4  C5  C6  C7\n",
       "654  1.2.826.0.1.3680043.780                1   0   1   0   0   0   0   0"
      ]
     },
     "execution_count": 12,
     "metadata": {},
     "output_type": "execute_result"
    }
   ],
   "source": [
    "train[train.StudyInstanceUID == \"1.2.826.0.1.3680043.780\"]"
   ]
  },
  {
   "cell_type": "markdown",
   "id": "db17be48",
   "metadata": {
    "papermill": {
     "duration": 0.007149,
     "end_time": "2022-08-02T19:22:02.619919",
     "exception": false,
     "start_time": "2022-08-02T19:22:02.612770",
     "status": "completed"
    },
    "tags": []
   },
   "source": [
    "We cannot use segmented images to train the model. Because testing images below are in the raw data format, without segmenting.\n",
    "But, at least for now, only segmented images are important because we know their corresponding vertebrae. So let's train the model only with them."
   ]
  },
  {
   "cell_type": "code",
   "execution_count": 13,
   "id": "3e5bef6b",
   "metadata": {
    "execution": {
     "iopub.execute_input": "2022-08-02T19:22:02.635631Z",
     "iopub.status.busy": "2022-08-02T19:22:02.635350Z",
     "iopub.status.idle": "2022-08-02T19:27:10.302608Z",
     "shell.execute_reply": "2022-08-02T19:27:10.301602Z"
    },
    "papermill": {
     "duration": 307.678072,
     "end_time": "2022-08-02T19:27:10.305234",
     "exception": false,
     "start_time": "2022-08-02T19:22:02.627162",
     "status": "completed"
    },
    "tags": []
   },
   "outputs": [],
   "source": [
    "segmentations_path = \"../input/rsna-2022-cervical-spine-fracture-detection/segmentations/\"\n",
    "patients_to_train = os.listdir(segmentations_path)\n",
    "df = pd.DataFrame()\n",
    "\n",
    "for i in range (0, len(patients_to_train)):\n",
    "    \n",
    "\n",
    "    segmentations = nib.load(segmentations_path + patients_to_train[i]).get_fdata()[:, ::-1, ::-1].transpose(2, 1, 0)\n",
    "    study = patients_to_train[i][:-4] #removing extention\n",
    "    \n",
    "    for j in range (0, segmentations.shape[0]):\n",
    "        if (np.unique(segmentations[j]).size == 2): #returns the IMAGES that only shows one vertebrae in the axial pane. (note that some images contains multiple bones and that can be confusing for the algorithm)\n",
    "              \n",
    "            label = np.unique(segmentations[j])[1] #detecting label. ex: C1.\n",
    "            if (label == 1): # after detecting label, checking if it's fractured or not. '0' NOT FRACTURED - '1' FRACTURED. \"values[0] contains this feature\"\n",
    "                fractured = train[train.StudyInstanceUID == study][\"C1\"].values[0]\n",
    "            elif (label == 2):\n",
    "                fractured = train[train.StudyInstanceUID == study][\"C2\"].values[0]\n",
    "            elif (label == 3):\n",
    "                fractured = train[train.StudyInstanceUID == study][\"C3\"].values[0]\n",
    "            elif (label == 4):\n",
    "                fractured = train[train.StudyInstanceUID == study][\"C4\"].values[0]\n",
    "            elif (label == 5):\n",
    "                fractured = train[train.StudyInstanceUID == study][\"C5\"].values[0]\n",
    "            elif (label == 6):\n",
    "                fractured = train[train.StudyInstanceUID == study][\"C6\"].values[0]\n",
    "            elif (label == 7):\n",
    "                fractured = train[train.StudyInstanceUID == study][\"C7\"].values[0]\n",
    "          \n",
    "\n",
    "            new_row = {'StudyInstanceUID': study, 'Image': j, 'Label': label, 'Fractured': fractured}\n",
    "            df = df.append(new_row, ignore_index=True)\n"
   ]
  },
  {
   "cell_type": "code",
   "execution_count": 14,
   "id": "ecdbdbeb",
   "metadata": {
    "execution": {
     "iopub.execute_input": "2022-08-02T19:27:10.323293Z",
     "iopub.status.busy": "2022-08-02T19:27:10.321609Z",
     "iopub.status.idle": "2022-08-02T19:27:10.340212Z",
     "shell.execute_reply": "2022-08-02T19:27:10.339169Z"
    },
    "papermill": {
     "duration": 0.029363,
     "end_time": "2022-08-02T19:27:10.342550",
     "exception": false,
     "start_time": "2022-08-02T19:27:10.313187",
     "status": "completed"
    },
    "tags": []
   },
   "outputs": [
    {
     "data": {
      "text/html": [
       "<div>\n",
       "<style scoped>\n",
       "    .dataframe tbody tr th:only-of-type {\n",
       "        vertical-align: middle;\n",
       "    }\n",
       "\n",
       "    .dataframe tbody tr th {\n",
       "        vertical-align: top;\n",
       "    }\n",
       "\n",
       "    .dataframe thead th {\n",
       "        text-align: right;\n",
       "    }\n",
       "</style>\n",
       "<table border=\"1\" class=\"dataframe\">\n",
       "  <thead>\n",
       "    <tr style=\"text-align: right;\">\n",
       "      <th></th>\n",
       "      <th>index</th>\n",
       "      <th>StudyInstanceUID</th>\n",
       "      <th>Image</th>\n",
       "      <th>Label</th>\n",
       "      <th>Fractured</th>\n",
       "    </tr>\n",
       "  </thead>\n",
       "  <tbody>\n",
       "    <tr>\n",
       "      <th>0</th>\n",
       "      <td>0</td>\n",
       "      <td>1.2.826.0.1.3680043.780</td>\n",
       "      <td>60.0</td>\n",
       "      <td>1.0</td>\n",
       "      <td>0.0</td>\n",
       "    </tr>\n",
       "    <tr>\n",
       "      <th>1</th>\n",
       "      <td>1</td>\n",
       "      <td>1.2.826.0.1.3680043.780</td>\n",
       "      <td>61.0</td>\n",
       "      <td>1.0</td>\n",
       "      <td>0.0</td>\n",
       "    </tr>\n",
       "    <tr>\n",
       "      <th>2</th>\n",
       "      <td>2</td>\n",
       "      <td>1.2.826.0.1.3680043.780</td>\n",
       "      <td>62.0</td>\n",
       "      <td>1.0</td>\n",
       "      <td>0.0</td>\n",
       "    </tr>\n",
       "    <tr>\n",
       "      <th>3</th>\n",
       "      <td>3</td>\n",
       "      <td>1.2.826.0.1.3680043.780</td>\n",
       "      <td>84.0</td>\n",
       "      <td>2.0</td>\n",
       "      <td>1.0</td>\n",
       "    </tr>\n",
       "    <tr>\n",
       "      <th>4</th>\n",
       "      <td>4</td>\n",
       "      <td>1.2.826.0.1.3680043.780</td>\n",
       "      <td>85.0</td>\n",
       "      <td>2.0</td>\n",
       "      <td>1.0</td>\n",
       "    </tr>\n",
       "    <tr>\n",
       "      <th>...</th>\n",
       "      <td>...</td>\n",
       "      <td>...</td>\n",
       "      <td>...</td>\n",
       "      <td>...</td>\n",
       "      <td>...</td>\n",
       "    </tr>\n",
       "    <tr>\n",
       "      <th>3781</th>\n",
       "      <td>4915</td>\n",
       "      <td>1.2.826.0.1.3680043.31077</td>\n",
       "      <td>373.0</td>\n",
       "      <td>7.0</td>\n",
       "      <td>0.0</td>\n",
       "    </tr>\n",
       "    <tr>\n",
       "      <th>3782</th>\n",
       "      <td>4916</td>\n",
       "      <td>1.2.826.0.1.3680043.31077</td>\n",
       "      <td>374.0</td>\n",
       "      <td>7.0</td>\n",
       "      <td>0.0</td>\n",
       "    </tr>\n",
       "    <tr>\n",
       "      <th>3783</th>\n",
       "      <td>4917</td>\n",
       "      <td>1.2.826.0.1.3680043.31077</td>\n",
       "      <td>375.0</td>\n",
       "      <td>7.0</td>\n",
       "      <td>0.0</td>\n",
       "    </tr>\n",
       "    <tr>\n",
       "      <th>3784</th>\n",
       "      <td>4918</td>\n",
       "      <td>1.2.826.0.1.3680043.31077</td>\n",
       "      <td>376.0</td>\n",
       "      <td>7.0</td>\n",
       "      <td>0.0</td>\n",
       "    </tr>\n",
       "    <tr>\n",
       "      <th>3785</th>\n",
       "      <td>4919</td>\n",
       "      <td>1.2.826.0.1.3680043.31077</td>\n",
       "      <td>377.0</td>\n",
       "      <td>7.0</td>\n",
       "      <td>0.0</td>\n",
       "    </tr>\n",
       "  </tbody>\n",
       "</table>\n",
       "<p>3786 rows × 5 columns</p>\n",
       "</div>"
      ],
      "text/plain": [
       "      index           StudyInstanceUID  Image  Label  Fractured\n",
       "0         0    1.2.826.0.1.3680043.780   60.0    1.0        0.0\n",
       "1         1    1.2.826.0.1.3680043.780   61.0    1.0        0.0\n",
       "2         2    1.2.826.0.1.3680043.780   62.0    1.0        0.0\n",
       "3         3    1.2.826.0.1.3680043.780   84.0    2.0        1.0\n",
       "4         4    1.2.826.0.1.3680043.780   85.0    2.0        1.0\n",
       "...     ...                        ...    ...    ...        ...\n",
       "3781   4915  1.2.826.0.1.3680043.31077  373.0    7.0        0.0\n",
       "3782   4916  1.2.826.0.1.3680043.31077  374.0    7.0        0.0\n",
       "3783   4917  1.2.826.0.1.3680043.31077  375.0    7.0        0.0\n",
       "3784   4918  1.2.826.0.1.3680043.31077  376.0    7.0        0.0\n",
       "3785   4919  1.2.826.0.1.3680043.31077  377.0    7.0        0.0\n",
       "\n",
       "[3786 rows x 5 columns]"
      ]
     },
     "execution_count": 14,
     "metadata": {},
     "output_type": "execute_result"
    }
   ],
   "source": [
    "df_final = df[df[\"Label\"]<8]\n",
    "df_final.reset_index(inplace=True)\n",
    "df_final"
   ]
  },
  {
   "cell_type": "code",
   "execution_count": 15,
   "id": "2ad14eb3",
   "metadata": {
    "execution": {
     "iopub.execute_input": "2022-08-02T19:27:10.359199Z",
     "iopub.status.busy": "2022-08-02T19:27:10.358931Z",
     "iopub.status.idle": "2022-08-02T19:27:10.367302Z",
     "shell.execute_reply": "2022-08-02T19:27:10.366415Z"
    },
    "papermill": {
     "duration": 0.018863,
     "end_time": "2022-08-02T19:27:10.369463",
     "exception": false,
     "start_time": "2022-08-02T19:27:10.350600",
     "status": "completed"
    },
    "tags": []
   },
   "outputs": [
    {
     "data": {
      "text/plain": [
       "2779      3.0\n",
       "2780      4.0\n",
       "2781     18.0\n",
       "2782     19.0\n",
       "2783     70.0\n",
       "        ...  \n",
       "2947    505.0\n",
       "2948    506.0\n",
       "2949    507.0\n",
       "2950    508.0\n",
       "2951    509.0\n",
       "Name: Image, Length: 173, dtype: float64"
      ]
     },
     "execution_count": 15,
     "metadata": {},
     "output_type": "execute_result"
    }
   ],
   "source": [
    "#Check ok Images (with above code)\n",
    "df[df.StudyInstanceUID == \"1.2.826.0.1.3680043.21651\"][\"Image\"]\n",
    "\n",
    "#Check!"
   ]
  },
  {
   "cell_type": "markdown",
   "id": "91e4b333",
   "metadata": {
    "papermill": {
     "duration": 0.007503,
     "end_time": "2022-08-02T19:27:10.384834",
     "exception": false,
     "start_time": "2022-08-02T19:27:10.377331",
     "status": "completed"
    },
    "tags": []
   },
   "source": [
    "# TEST IMAGE"
   ]
  },
  {
   "cell_type": "code",
   "execution_count": 16,
   "id": "7c63857e",
   "metadata": {
    "execution": {
     "iopub.execute_input": "2022-08-02T19:27:10.401765Z",
     "iopub.status.busy": "2022-08-02T19:27:10.400913Z",
     "iopub.status.idle": "2022-08-02T19:27:10.684330Z",
     "shell.execute_reply": "2022-08-02T19:27:10.683459Z"
    },
    "papermill": {
     "duration": 0.293969,
     "end_time": "2022-08-02T19:27:10.686421",
     "exception": false,
     "start_time": "2022-08-02T19:27:10.392452",
     "status": "completed"
    },
    "tags": []
   },
   "outputs": [
    {
     "name": "stdout",
     "output_type": "stream",
     "text": [
      "../input/rsna-2022-cervical-spine-fracture-detection/test_images/1.2.826.0.1.3680043.22327/\n",
      "../input/rsna-2022-cervical-spine-fracture-detection/test_images/1.2.826.0.1.3680043.22327/60.dcm\n"
     ]
    },
    {
     "data": {
      "text/plain": [
       "<matplotlib.image.AxesImage at 0x7f5504026c50>"
      ]
     },
     "execution_count": 16,
     "metadata": {},
     "output_type": "execute_result"
    },
    {
     "data": {
      "image/png": "[encoded data removed]",
      "text/plain": [
       "<Figure size 432x288 with 1 Axes>"
      ]
     },
     "metadata": {
      "needs_background": "light"
     },
     "output_type": "display_data"
    }
   ],
   "source": [
    "test_path = \"../input/rsna-2022-cervical-spine-fracture-detection/test_images/\"\n",
    "studies = os.listdir(test_path)\n",
    "\n",
    "\n",
    "path_study = test_path + studies[0] + \"/\"\n",
    "print(path_study)\n",
    "\n",
    "images = os.listdir(path_study)\n",
    "path_image = path_study + images[102]\n",
    "print(path_image)\n",
    "\n",
    "ds = dicom.dcmread(path_image)\n",
    "plt.imshow(ds.pixel_array)"
   ]
  },
  {
   "cell_type": "markdown",
   "id": "7505865e",
   "metadata": {
    "papermill": {
     "duration": 0.008433,
     "end_time": "2022-08-02T19:27:10.703626",
     "exception": false,
     "start_time": "2022-08-02T19:27:10.695193",
     "status": "completed"
    },
    "tags": []
   },
   "source": [
    "# BAD IMAGES"
   ]
  },
  {
   "cell_type": "code",
   "execution_count": 17,
   "id": "460b6722",
   "metadata": {
    "execution": {
     "iopub.execute_input": "2022-08-02T19:27:10.722396Z",
     "iopub.status.busy": "2022-08-02T19:27:10.721625Z",
     "iopub.status.idle": "2022-08-02T19:27:11.008538Z",
     "shell.execute_reply": "2022-08-02T19:27:11.007610Z"
    },
    "papermill": {
     "duration": 0.298861,
     "end_time": "2022-08-02T19:27:11.011013",
     "exception": false,
     "start_time": "2022-08-02T19:27:10.712152",
     "status": "completed"
    },
    "tags": []
   },
   "outputs": [],
   "source": [
    "import pydicom as dicom\n",
    "from pydicom import dcmread\n",
    "import matplotlib.pylab as plt\n",
    "import cv2 \n",
    "\n",
    "#bad_images \n",
    "\n",
    "# studies = os.listdir(\"../input/rsna-2022-cervical-spine-fracture-detection/train_images\")\n",
    "\n",
    "# for study in studies:\n",
    "#     path_study = \"../input/rsna-2022-cervical-spine-fracture-detection/train_images/\" + study + \"/\"\n",
    "#     images = os.listdir(path_study)\n",
    "#     for image in images:\n",
    "#         ds = dcmread(path_study + image)\n",
    "#         try: \n",
    "#             trying = ds.pixel_array\n",
    "#         except:\n",
    "#             print(path_study)\n",
    "#             break"
   ]
  },
  {
   "cell_type": "code",
   "execution_count": 18,
   "id": "c190ec41",
   "metadata": {
    "execution": {
     "iopub.execute_input": "2022-08-02T19:27:11.031052Z",
     "iopub.status.busy": "2022-08-02T19:27:11.030326Z",
     "iopub.status.idle": "2022-08-02T19:27:11.048028Z",
     "shell.execute_reply": "2022-08-02T19:27:11.047114Z"
    },
    "papermill": {
     "duration": 0.029806,
     "end_time": "2022-08-02T19:27:11.050106",
     "exception": false,
     "start_time": "2022-08-02T19:27:11.020300",
     "status": "completed"
    },
    "tags": []
   },
   "outputs": [
    {
     "name": "stdout",
     "output_type": "stream",
     "text": [
      " ../input/rsna-2022-cervical-spine-fracture-detection/train_images/1.2.826.0.1.3680043.2668/\n"
     ]
    }
   ],
   "source": [
    "f = open(\"../input/badimages/bad_images.txt\", \"r\")\n",
    "bad_images = []\n",
    "\n",
    "# reading the file\n",
    "data = f.read()\n",
    "  \n",
    "# replacing end of line('/n') with ' ' and\n",
    "# splitting the text it further when '.' is seen.\n",
    "bad_images = data.replace('\\n', ' ').split(\",\")\n",
    "  \n",
    "# printing the data\n",
    "print(bad_images[1])\n",
    "f.close()"
   ]
  }
 ],
 "metadata": {
  "kernelspec": {
   "display_name": "Python 3",
   "language": "python",
   "name": "python3"
  },
  "language_info": {
   "codemirror_mode": {
    "name": "ipython",
    "version": 3
   },
   "file_extension": ".py",
   "mimetype": "text/x-python",
   "name": "python",
   "nbconvert_exporter": "python",
   "pygments_lexer": "ipython3",
   "version": "3.7.12"
  },
  "papermill": {
   "default_parameters": {},
   "duration": 322.901418,
   "end_time": "2022-08-02T19:27:11.579674",
   "environment_variables": {},
   "exception": null,
   "input_path": "__notebook__.ipynb",
   "output_path": "__notebook__.ipynb",
   "parameters": {},
   "start_time": "2022-08-02T19:21:48.678256",
   "version": "2.3.4"
  }
 },
 "nbformat": 4,
 "nbformat_minor": 5
}
