{
 "cells": [
  {
   "cell_type": "markdown",
   "id": "0d640d4c",
   "metadata": {
    "papermill": {
     "duration": 0.013113,
     "end_time": "2022-08-02T13:27:14.350233",
     "exception": false,
     "start_time": "2022-08-02T13:27:14.337120",
     "status": "completed"
    },
    "tags": []
   },
   "source": [
    "\n",
    "\n"
   ]
  },
  {
   "cell_type": "markdown",
   "id": "1a2a5bfd",
   "metadata": {
    "papermill": {
     "duration": 0.013512,
     "end_time": "2022-08-02T13:27:14.374570",
     "exception": false,
     "start_time": "2022-08-02T13:27:14.361058",
     "status": "completed"
    },
    "tags": []
   },
   "source": [
    "# Prepare to start <a class=\"anchor\" id=\"prepare\"></a>\n",
    "\n",
    "## Loading packages"
   ]
  },
  {
   "cell_type": "code",
   "execution_count": 1,
   "id": "79032a84",
   "metadata": {
    "_kg_hide-input": true,
    "execution": {
     "iopub.execute_input": "2022-08-02T13:27:14.391473Z",
     "iopub.status.busy": "2022-08-02T13:27:14.391046Z",
     "iopub.status.idle": "2022-08-02T13:27:14.406950Z",
     "shell.execute_reply": "2022-08-02T13:27:14.405806Z"
    },
    "papermill": {
     "duration": 0.028861,
     "end_time": "2022-08-02T13:27:14.411531",
     "exception": false,
     "start_time": "2022-08-02T13:27:14.382670",
     "status": "completed"
    },
    "tags": []
   },
   "outputs": [],
   "source": [
    "import os\n",
    "\n",
    "import pandas as pd\n",
    "import numpy as np\n",
    "import matplotlib.pyplot as plt"
   ]
  },
  {
   "cell_type": "markdown",
   "id": "085bc6c0",
   "metadata": {
    "papermill": {
     "duration": 0.008781,
     "end_time": "2022-08-02T13:27:14.429962",
     "exception": false,
     "start_time": "2022-08-02T13:27:14.421181",
     "status": "completed"
    },
    "tags": []
   },
   "source": [
    "## Loading data"
   ]
  },
  {
   "cell_type": "code",
   "execution_count": 2,
   "id": "09cba66e",
   "metadata": {
    "execution": {
     "iopub.execute_input": "2022-08-02T13:27:14.448820Z",
     "iopub.status.busy": "2022-08-02T13:27:14.448459Z",
     "iopub.status.idle": "2022-08-02T13:27:14.468239Z",
     "shell.execute_reply": "2022-08-02T13:27:14.467285Z"
    },
    "papermill": {
     "duration": 0.031694,
     "end_time": "2022-08-02T13:27:14.470381",
     "exception": false,
     "start_time": "2022-08-02T13:27:14.438687",
     "status": "completed"
    },
    "tags": []
   },
   "outputs": [],
   "source": [
    "train = pd.read_csv(\"../input/rsna-2022-cervical-spine-fracture-detection/train.csv\")"
   ]
  },
  {
   "cell_type": "markdown",
   "id": "451bb220",
   "metadata": {
    "papermill": {
     "duration": 0.005695,
     "end_time": "2022-08-02T13:27:14.481896",
     "exception": false,
     "start_time": "2022-08-02T13:27:14.476201",
     "status": "completed"
    },
    "tags": []
   },
   "source": [
    "## What do we know about our training data?"
   ]
  },
  {
   "cell_type": "code",
   "execution_count": 3,
   "id": "a5466738",
   "metadata": {
    "execution": {
     "iopub.execute_input": "2022-08-02T13:27:14.495122Z",
     "iopub.status.busy": "2022-08-02T13:27:14.494774Z",
     "iopub.status.idle": "2022-08-02T13:27:14.513107Z",
     "shell.execute_reply": "2022-08-02T13:27:14.512143Z"
    },
    "papermill": {
     "duration": 0.027551,
     "end_time": "2022-08-02T13:27:14.515488",
     "exception": false,
     "start_time": "2022-08-02T13:27:14.487937",
     "status": "completed"
    },
    "tags": []
   },
   "outputs": [
    {
     "data": {
      "text/html": [
       "<div>\n",
       "<style scoped>\n",
       "    .dataframe tbody tr th:only-of-type {\n",
       "        vertical-align: middle;\n",
       "    }\n",
       "\n",
       "    .dataframe tbody tr th {\n",
       "        vertical-align: top;\n",
       "    }\n",
       "\n",
       "    .dataframe thead th {\n",
       "        text-align: right;\n",
       "    }\n",
       "</style>\n",
       "<table border=\"1\" class=\"dataframe\">\n",
       "  <thead>\n",
       "    <tr style=\"text-align: right;\">\n",
       "      <th></th>\n",
       "      <th>StudyInstanceUID</th>\n",
       "      <th>patient_overall</th>\n",
       "      <th>C1</th>\n",
       "      <th>C2</th>\n",
       "      <th>C3</th>\n",
       "      <th>C4</th>\n",
       "      <th>C5</th>\n",
       "      <th>C6</th>\n",
       "      <th>C7</th>\n",
       "    </tr>\n",
       "  </thead>\n",
       "  <tbody>\n",
       "    <tr>\n",
       "      <th>0</th>\n",
       "      <td>1.2.826.0.1.3680043.6200</td>\n",
       "      <td>1</td>\n",
       "      <td>1</td>\n",
       "      <td>1</td>\n",
       "      <td>0</td>\n",
       "      <td>0</td>\n",
       "      <td>0</td>\n",
       "      <td>0</td>\n",
       "      <td>0</td>\n",
       "    </tr>\n",
       "    <tr>\n",
       "      <th>1</th>\n",
       "      <td>1.2.826.0.1.3680043.27262</td>\n",
       "      <td>1</td>\n",
       "      <td>0</td>\n",
       "      <td>1</td>\n",
       "      <td>0</td>\n",
       "      <td>0</td>\n",
       "      <td>0</td>\n",
       "      <td>0</td>\n",
       "      <td>0</td>\n",
       "    </tr>\n",
       "    <tr>\n",
       "      <th>2</th>\n",
       "      <td>1.2.826.0.1.3680043.21561</td>\n",
       "      <td>1</td>\n",
       "      <td>0</td>\n",
       "      <td>1</td>\n",
       "      <td>0</td>\n",
       "      <td>0</td>\n",
       "      <td>0</td>\n",
       "      <td>0</td>\n",
       "      <td>0</td>\n",
       "    </tr>\n",
       "    <tr>\n",
       "      <th>3</th>\n",
       "      <td>1.2.826.0.1.3680043.12351</td>\n",
       "      <td>0</td>\n",
       "      <td>0</td>\n",
       "      <td>0</td>\n",
       "      <td>0</td>\n",
       "      <td>0</td>\n",
       "      <td>0</td>\n",
       "      <td>0</td>\n",
       "      <td>0</td>\n",
       "    </tr>\n",
       "    <tr>\n",
       "      <th>4</th>\n",
       "      <td>1.2.826.0.1.3680043.1363</td>\n",
       "      <td>1</td>\n",
       "      <td>0</td>\n",
       "      <td>0</td>\n",
       "      <td>0</td>\n",
       "      <td>0</td>\n",
       "      <td>1</td>\n",
       "      <td>0</td>\n",
       "      <td>0</td>\n",
       "    </tr>\n",
       "  </tbody>\n",
       "</table>\n",
       "</div>"
      ],
      "text/plain": [
       "            StudyInstanceUID  patient_overall  C1  C2  C3  C4  C5  C6  C7\n",
       "0   1.2.826.0.1.3680043.6200                1   1   1   0   0   0   0   0\n",
       "1  1.2.826.0.1.3680043.27262                1   0   1   0   0   0   0   0\n",
       "2  1.2.826.0.1.3680043.21561                1   0   1   0   0   0   0   0\n",
       "3  1.2.826.0.1.3680043.12351                0   0   0   0   0   0   0   0\n",
       "4   1.2.826.0.1.3680043.1363                1   0   0   0   0   1   0   0"
      ]
     },
     "execution_count": 3,
     "metadata": {},
     "output_type": "execute_result"
    }
   ],
   "source": [
    "train.head()"
   ]
  },
  {
   "cell_type": "code",
   "execution_count": 4,
   "id": "58ae43ca",
   "metadata": {
    "execution": {
     "iopub.execute_input": "2022-08-02T13:27:14.530630Z",
     "iopub.status.busy": "2022-08-02T13:27:14.529713Z",
     "iopub.status.idle": "2022-08-02T13:27:14.536255Z",
     "shell.execute_reply": "2022-08-02T13:27:14.535272Z"
    },
    "papermill": {
     "duration": 0.015852,
     "end_time": "2022-08-02T13:27:14.538254",
     "exception": false,
     "start_time": "2022-08-02T13:27:14.522402",
     "status": "completed"
    },
    "tags": []
   },
   "outputs": [
    {
     "data": {
      "text/plain": [
       "(2019, 9)"
      ]
     },
     "execution_count": 4,
     "metadata": {},
     "output_type": "execute_result"
    }
   ],
   "source": [
    "train.shape"
   ]
  },
  {
   "cell_type": "markdown",
   "id": "02224cf2",
   "metadata": {
    "papermill": {
     "duration": 0.005919,
     "end_time": "2022-08-02T13:27:14.550301",
     "exception": false,
     "start_time": "2022-08-02T13:27:14.544382",
     "status": "completed"
    },
    "tags": []
   },
   "source": [
    "# Images"
   ]
  },
  {
   "cell_type": "code",
   "execution_count": 5,
   "id": "523b5d87",
   "metadata": {
    "execution": {
     "iopub.execute_input": "2022-08-02T13:27:14.564813Z",
     "iopub.status.busy": "2022-08-02T13:27:14.563920Z",
     "iopub.status.idle": "2022-08-02T13:27:14.580207Z",
     "shell.execute_reply": "2022-08-02T13:27:14.579082Z"
    },
    "papermill": {
     "duration": 0.027231,
     "end_time": "2022-08-02T13:27:14.583668",
     "exception": false,
     "start_time": "2022-08-02T13:27:14.556437",
     "status": "completed"
    },
    "tags": []
   },
   "outputs": [
    {
     "data": {
      "text/plain": [
       "' Important concepts about images:\\n        - train_images contains 2019 folders with lot of files inside. Each folder represents one study of one patient.\\n        - each dicom file, contains some metadata of the image itself. One of the parameters we are interested in is the \\'ImagePositionPatient\\'.\\n          It represents the patient position (x,y,z) of each slide image. The z axis is important, because we need to know which vertebrae is shown in \\n          the picture. The \\'z\\' axis tell us the position in the SAGITAL PANE.\\n        - however, all images inside of train_image folder were taken in the AXIAL PANE. So we are seeing an image of some vertebrae but we don\\'t know\\n          exactly which one is. The answer is in the SAGITAL PANE.\\n        - So, to know which bone we are referencing, we need to look at the \"segmentations\" folder \\n        \\n'"
      ]
     },
     "execution_count": 5,
     "metadata": {},
     "output_type": "execute_result"
    }
   ],
   "source": [
    "\"\"\" Important concepts about images:\n",
    "        - train_images contains 2019 folders with lot of files inside. Each folder represents one study of one patient.\n",
    "        - each dicom file, contains some metadata of the image itself. One of the parameters we are interested in is the 'ImagePositionPatient'.\n",
    "          It represents the patient position (x,y,z) of each slide image. The z axis is important, because we need to know which vertebrae is shown in \n",
    "          the picture. The 'z' axis tell us the position in the SAGITAL PANE.\n",
    "        - however, all images inside of train_image folder were taken in the AXIAL PANE. So we are seeing an image of some vertebrae but we don't know\n",
    "          exactly which one is. The answer is in the SAGITAL PANE.\n",
    "        - So, to know which bone we are referencing, we need to look at the \"segmentations\" folder \n",
    "        \n",
    "\"\"\""
   ]
  },
  {
   "cell_type": "markdown",
   "id": "dd8564a0",
   "metadata": {
    "papermill": {
     "duration": 0.011915,
     "end_time": "2022-08-02T13:27:14.608047",
     "exception": false,
     "start_time": "2022-08-02T13:27:14.596132",
     "status": "completed"
    },
    "tags": []
   },
   "source": [
    "# Comparison between segmented images and dicom images"
   ]
  },
  {
   "cell_type": "markdown",
   "id": "2472582f",
   "metadata": {
    "papermill": {
     "duration": 0.00899,
     "end_time": "2022-08-02T13:27:14.629755",
     "exception": false,
     "start_time": "2022-08-02T13:27:14.620765",
     "status": "completed"
    },
    "tags": []
   },
   "source": [
    "**DCOM IMAGE**"
   ]
  },
  {
   "cell_type": "code",
   "execution_count": 6,
   "id": "e64e564a",
   "metadata": {
    "execution": {
     "iopub.execute_input": "2022-08-02T13:27:14.649714Z",
     "iopub.status.busy": "2022-08-02T13:27:14.649275Z",
     "iopub.status.idle": "2022-08-02T13:27:15.018386Z",
     "shell.execute_reply": "2022-08-02T13:27:15.017413Z"
    },
    "papermill": {
     "duration": 0.382326,
     "end_time": "2022-08-02T13:27:15.021282",
     "exception": false,
     "start_time": "2022-08-02T13:27:14.638956",
     "status": "completed"
    },
    "tags": []
   },
   "outputs": [
    {
     "name": "stdout",
     "output_type": "stream",
     "text": [
      "../input/rsna-2022-cervical-spine-fracture-detection/train_images/1.2.826.0.1.3680043.21651/201.dcm\n"
     ]
    },
    {
     "data": {
      "text/plain": [
       "<matplotlib.image.AxesImage at 0x7f2798cb8a90>"
      ]
     },
     "execution_count": 6,
     "metadata": {},
     "output_type": "execute_result"
    },
    {
     "data": {
      "image/png": "[encoded data removed]",
      "text/plain": [
       "<Figure size 432x288 with 1 Axes>"
      ]
     },
     "metadata": {
      "needs_background": "light"
     },
     "output_type": "display_data"
    }
   ],
   "source": [
    "import pydicom as dicom\n",
    "\n",
    "train_path = \"../input/rsna-2022-cervical-spine-fracture-detection/train_images/1.2.826.0.1.3680043.21651\"\n",
    "\n",
    "path_image = train_path + \"/201.dcm\"\n",
    "print(path_image)\n",
    "\n",
    "ds = dicom.dcmread(path_image)\n",
    "plt.imshow(ds.pixel_array)"
   ]
  },
  {
   "cell_type": "code",
   "execution_count": 7,
   "id": "fde6b5ca",
   "metadata": {
    "execution": {
     "iopub.execute_input": "2022-08-02T13:27:15.038215Z",
     "iopub.status.busy": "2022-08-02T13:27:15.037909Z",
     "iopub.status.idle": "2022-08-02T13:27:16.997231Z",
     "shell.execute_reply": "2022-08-02T13:27:16.995905Z"
    },
    "papermill": {
     "duration": 1.970114,
     "end_time": "2022-08-02T13:27:16.999523",
     "exception": false,
     "start_time": "2022-08-02T13:27:15.029409",
     "status": "completed"
    },
    "tags": []
   },
   "outputs": [
    {
     "name": "stdout",
     "output_type": "stream",
     "text": [
      "(510, 512, 512)\n"
     ]
    }
   ],
   "source": [
    "# The segmented 'nii' files will provide us of the target.\n",
    "# Still need to study what this 'transpose' is really doing.\n",
    "import nibabel as nib\n",
    "segmentations = nib.load(\"../input/rsna-2022-cervical-spine-fracture-detection/segmentations/1.2.826.0.1.3680043.21651.nii\").get_fdata()[:, ::-1, ::-1].transpose(2, 1, 0)\n",
    "print(segmentations.shape) # segmentations shape (num_images, height, width) \n",
    "\n",
    "# shape here for the study '1.2.826.0.1.3680043.10633' is 429 images of 512x512 pixels. "
   ]
  },
  {
   "cell_type": "markdown",
   "id": "4ad04112",
   "metadata": {
    "papermill": {
     "duration": 0.008121,
     "end_time": "2022-08-02T13:27:17.015422",
     "exception": false,
     "start_time": "2022-08-02T13:27:17.007301",
     "status": "completed"
    },
    "tags": []
   },
   "source": [
    "**Segmented image**"
   ]
  },
  {
   "cell_type": "code",
   "execution_count": 8,
   "id": "587ba793",
   "metadata": {
    "execution": {
     "iopub.execute_input": "2022-08-02T13:27:17.031627Z",
     "iopub.status.busy": "2022-08-02T13:27:17.031325Z",
     "iopub.status.idle": "2022-08-02T13:27:17.223708Z",
     "shell.execute_reply": "2022-08-02T13:27:17.222783Z"
    },
    "papermill": {
     "duration": 0.202663,
     "end_time": "2022-08-02T13:27:17.225739",
     "exception": false,
     "start_time": "2022-08-02T13:27:17.023076",
     "status": "completed"
    },
    "tags": []
   },
   "outputs": [
    {
     "data": {
      "image/png": "[encoded data removed]",
      "text/plain": [
       "<Figure size 432x288 with 1 Axes>"
      ]
     },
     "metadata": {
      "needs_background": "light"
     },
     "output_type": "display_data"
    }
   ],
   "source": [
    "plt.imshow(segmentations[200])\n",
    "plt.show()"
   ]
  },
  {
   "cell_type": "code",
   "execution_count": 9,
   "id": "d60966c0",
   "metadata": {
    "execution": {
     "iopub.execute_input": "2022-08-02T13:27:17.243728Z",
     "iopub.status.busy": "2022-08-02T13:27:17.242196Z",
     "iopub.status.idle": "2022-08-02T13:27:17.255343Z",
     "shell.execute_reply": "2022-08-02T13:27:17.254342Z"
    },
    "papermill": {
     "duration": 0.024123,
     "end_time": "2022-08-02T13:27:17.257609",
     "exception": false,
     "start_time": "2022-08-02T13:27:17.233486",
     "status": "completed"
    },
    "tags": []
   },
   "outputs": [
    {
     "data": {
      "text/plain": [
       "array([0., 2., 3.])"
      ]
     },
     "execution_count": 9,
     "metadata": {},
     "output_type": "execute_result"
    }
   ],
   "source": [
    "np.unique(segmentations[201])"
   ]
  },
  {
   "cell_type": "code",
   "execution_count": 10,
   "id": "fa4230b4",
   "metadata": {
    "execution": {
     "iopub.execute_input": "2022-08-02T13:27:17.274653Z",
     "iopub.status.busy": "2022-08-02T13:27:17.274082Z",
     "iopub.status.idle": "2022-08-02T13:27:19.898324Z",
     "shell.execute_reply": "2022-08-02T13:27:19.897191Z"
    },
    "papermill": {
     "duration": 2.635213,
     "end_time": "2022-08-02T13:27:19.900842",
     "exception": false,
     "start_time": "2022-08-02T13:27:17.265629",
     "status": "completed"
    },
    "tags": []
   },
   "outputs": [],
   "source": [
    "#Segmentation 200. Indicates 201 dicom file IS REFERENCING C3.\n",
    "vertebrae = []\n",
    "\n",
    "for i in range (0, segmentations.shape[0]):\n",
    "    if (np.unique(segmentations[i]).size == 2):\n",
    "        vertebrae.append(i)"
   ]
  },
  {
   "cell_type": "code",
   "execution_count": 11,
   "id": "4984e879",
   "metadata": {
    "execution": {
     "iopub.execute_input": "2022-08-02T13:27:19.919721Z",
     "iopub.status.busy": "2022-08-02T13:27:19.919078Z",
     "iopub.status.idle": "2022-08-02T13:27:19.927688Z",
     "shell.execute_reply": "2022-08-02T13:27:19.926641Z"
    },
    "papermill": {
     "duration": 0.020647,
     "end_time": "2022-08-02T13:27:19.930801",
     "exception": false,
     "start_time": "2022-08-02T13:27:19.910154",
     "status": "completed"
    },
    "tags": []
   },
   "outputs": [
    {
     "data": {
      "text/plain": [
       "[3,\n",
       " 4,\n",
       " 18,\n",
       " 19,\n",
       " 70,\n",
       " 71,\n",
       " 72,\n",
       " 98,\n",
       " 99,\n",
       " 100,\n",
       " 101,\n",
       " 102,\n",
       " 103,\n",
       " 104,\n",
       " 118,\n",
       " 119,\n",
       " 120,\n",
       " 121,\n",
       " 122,\n",
       " 123,\n",
       " 124,\n",
       " 173,\n",
       " 174,\n",
       " 175,\n",
       " 176,\n",
       " 177,\n",
       " 178,\n",
       " 179,\n",
       " 180,\n",
       " 181,\n",
       " 182,\n",
       " 183,\n",
       " 184,\n",
       " 185,\n",
       " 186,\n",
       " 187,\n",
       " 188,\n",
       " 189,\n",
       " 190,\n",
       " 191,\n",
       " 192,\n",
       " 215,\n",
       " 216,\n",
       " 217,\n",
       " 218,\n",
       " 219,\n",
       " 220,\n",
       " 221,\n",
       " 222,\n",
       " 223,\n",
       " 224,\n",
       " 225,\n",
       " 226,\n",
       " 227,\n",
       " 228,\n",
       " 229,\n",
       " 230,\n",
       " 231,\n",
       " 232,\n",
       " 248,\n",
       " 249,\n",
       " 250,\n",
       " 251,\n",
       " 252,\n",
       " 253,\n",
       " 254,\n",
       " 255,\n",
       " 256,\n",
       " 257,\n",
       " 258,\n",
       " 259,\n",
       " 260,\n",
       " 261,\n",
       " 262,\n",
       " 263,\n",
       " 264,\n",
       " 265,\n",
       " 266,\n",
       " 267,\n",
       " 285,\n",
       " 286,\n",
       " 287,\n",
       " 288,\n",
       " 289,\n",
       " 290,\n",
       " 291,\n",
       " 292,\n",
       " 293,\n",
       " 294,\n",
       " 295,\n",
       " 296,\n",
       " 297,\n",
       " 320,\n",
       " 321,\n",
       " 322,\n",
       " 323,\n",
       " 324,\n",
       " 325,\n",
       " 326,\n",
       " 327,\n",
       " 328,\n",
       " 329,\n",
       " 330,\n",
       " 331,\n",
       " 332,\n",
       " 355,\n",
       " 356,\n",
       " 357,\n",
       " 358,\n",
       " 359,\n",
       " 360,\n",
       " 361,\n",
       " 362,\n",
       " 363,\n",
       " 364,\n",
       " 365,\n",
       " 366,\n",
       " 367,\n",
       " 395,\n",
       " 396,\n",
       " 397,\n",
       " 398,\n",
       " 399,\n",
       " 400,\n",
       " 401,\n",
       " 402,\n",
       " 435,\n",
       " 436,\n",
       " 437,\n",
       " 438,\n",
       " 439,\n",
       " 440,\n",
       " 441,\n",
       " 442,\n",
       " 443,\n",
       " 444,\n",
       " 445,\n",
       " 446,\n",
       " 447,\n",
       " 448,\n",
       " 449,\n",
       " 478,\n",
       " 479,\n",
       " 480,\n",
       " 481,\n",
       " 482,\n",
       " 483,\n",
       " 484,\n",
       " 485,\n",
       " 486,\n",
       " 487,\n",
       " 488,\n",
       " 489,\n",
       " 490,\n",
       " 491,\n",
       " 492,\n",
       " 493,\n",
       " 494,\n",
       " 495,\n",
       " 496,\n",
       " 497,\n",
       " 498,\n",
       " 499,\n",
       " 500,\n",
       " 501,\n",
       " 502,\n",
       " 503,\n",
       " 504,\n",
       " 505,\n",
       " 506,\n",
       " 507,\n",
       " 508,\n",
       " 509]"
      ]
     },
     "execution_count": 11,
     "metadata": {},
     "output_type": "execute_result"
    }
   ],
   "source": [
    "vertebrae"
   ]
  },
  {
   "cell_type": "code",
   "execution_count": 12,
   "id": "8d6b7eb3",
   "metadata": {
    "execution": {
     "iopub.execute_input": "2022-08-02T13:27:19.948779Z",
     "iopub.status.busy": "2022-08-02T13:27:19.948467Z",
     "iopub.status.idle": "2022-08-02T13:27:19.964615Z",
     "shell.execute_reply": "2022-08-02T13:27:19.963544Z"
    },
    "papermill": {
     "duration": 0.028419,
     "end_time": "2022-08-02T13:27:19.967287",
     "exception": false,
     "start_time": "2022-08-02T13:27:19.938868",
     "status": "completed"
    },
    "tags": []
   },
   "outputs": [
    {
     "data": {
      "text/html": [
       "<div>\n",
       "<style scoped>\n",
       "    .dataframe tbody tr th:only-of-type {\n",
       "        vertical-align: middle;\n",
       "    }\n",
       "\n",
       "    .dataframe tbody tr th {\n",
       "        vertical-align: top;\n",
       "    }\n",
       "\n",
       "    .dataframe thead th {\n",
       "        text-align: right;\n",
       "    }\n",
       "</style>\n",
       "<table border=\"1\" class=\"dataframe\">\n",
       "  <thead>\n",
       "    <tr style=\"text-align: right;\">\n",
       "      <th></th>\n",
       "      <th>StudyInstanceUID</th>\n",
       "      <th>patient_overall</th>\n",
       "      <th>C1</th>\n",
       "      <th>C2</th>\n",
       "      <th>C3</th>\n",
       "      <th>C4</th>\n",
       "      <th>C5</th>\n",
       "      <th>C6</th>\n",
       "      <th>C7</th>\n",
       "    </tr>\n",
       "  </thead>\n",
       "  <tbody>\n",
       "    <tr>\n",
       "      <th>782</th>\n",
       "      <td>1.2.826.0.1.3680043.21651</td>\n",
       "      <td>1</td>\n",
       "      <td>0</td>\n",
       "      <td>1</td>\n",
       "      <td>0</td>\n",
       "      <td>0</td>\n",
       "      <td>0</td>\n",
       "      <td>0</td>\n",
       "      <td>1</td>\n",
       "    </tr>\n",
       "  </tbody>\n",
       "</table>\n",
       "</div>"
      ],
      "text/plain": [
       "              StudyInstanceUID  patient_overall  C1  C2  C3  C4  C5  C6  C7\n",
       "782  1.2.826.0.1.3680043.21651                1   0   1   0   0   0   0   1"
      ]
     },
     "execution_count": 12,
     "metadata": {},
     "output_type": "execute_result"
    }
   ],
   "source": [
    "train[train.StudyInstanceUID == \"1.2.826.0.1.3680043.21651\"]"
   ]
  },
  {
   "cell_type": "markdown",
   "id": "396451e0",
   "metadata": {
    "papermill": {
     "duration": 0.008191,
     "end_time": "2022-08-02T13:27:19.983667",
     "exception": false,
     "start_time": "2022-08-02T13:27:19.975476",
     "status": "completed"
    },
    "tags": []
   },
   "source": [
    "We cannot use segmented images to train the model. Because testing images below are in the raw data format, without segmenting.\n",
    "But, at least for now, only segmented images are important because we know their corresponding vertebrae. So let's train the model only with them."
   ]
  },
  {
   "cell_type": "code",
   "execution_count": 13,
   "id": "12e840df",
   "metadata": {
    "execution": {
     "iopub.execute_input": "2022-08-02T13:27:20.002052Z",
     "iopub.status.busy": "2022-08-02T13:27:20.001693Z",
     "iopub.status.idle": "2022-08-02T13:32:09.111491Z",
     "shell.execute_reply": "2022-08-02T13:32:09.110386Z"
    },
    "papermill": {
     "duration": 289.121951,
     "end_time": "2022-08-02T13:32:09.114425",
     "exception": false,
     "start_time": "2022-08-02T13:27:19.992474",
     "status": "completed"
    },
    "tags": []
   },
   "outputs": [],
   "source": [
    "segmentations_path = \"../input/rsna-2022-cervical-spine-fracture-detection/segmentations/\"\n",
    "patients_to_train = os.listdir(segmentations_path)\n",
    "df = pd.DataFrame()\n",
    "\n",
    "for i in range (0, len(patients_to_train)):\n",
    "    \n",
    "    vertebrae = []\n",
    "    segmentations = nib.load(segmentations_path + patients_to_train[i]).get_fdata()[:, ::-1, ::-1].transpose(2, 1, 0)\n",
    "    \n",
    "    for j in range (0, segmentations.shape[0]):\n",
    "        if (np.unique(segmentations[j]).size == 2): #returns the IMAGES that only shows one vertebrae in the axial pane. (note that some images contains multiple bones and that can be confusing for the algorithm)\n",
    "            vertebrae.append(j)\n",
    "        \n",
    "    new_row = {'StudyInstanceUID': patients_to_train[i], 'Images': vertebrae }\n",
    "    df = df.append(new_row, ignore_index=True)\n"
   ]
  },
  {
   "cell_type": "code",
   "execution_count": 14,
   "id": "d08f6297",
   "metadata": {
    "execution": {
     "iopub.execute_input": "2022-08-02T13:32:09.135101Z",
     "iopub.status.busy": "2022-08-02T13:32:09.133313Z",
     "iopub.status.idle": "2022-08-02T13:32:09.143816Z",
     "shell.execute_reply": "2022-08-02T13:32:09.142736Z"
    },
    "papermill": {
     "duration": 0.022327,
     "end_time": "2022-08-02T13:32:09.145976",
     "exception": false,
     "start_time": "2022-08-02T13:32:09.123649",
     "status": "completed"
    },
    "tags": []
   },
   "outputs": [
    {
     "data": {
      "text/plain": [
       "47    [3, 4, 18, 19, 70, 71, 72, 98, 99, 100, 101, 1...\n",
       "Name: Images, dtype: object"
      ]
     },
     "execution_count": 14,
     "metadata": {},
     "output_type": "execute_result"
    }
   ],
   "source": [
    "#Check ok Images (with above code)\n",
    "df[df.StudyInstanceUID == \"1.2.826.0.1.3680043.21651.nii\"][\"Images\"]\n",
    "\n",
    "#Check!"
   ]
  },
  {
   "cell_type": "markdown",
   "id": "4366d1ef",
   "metadata": {
    "papermill": {
     "duration": 0.008047,
     "end_time": "2022-08-02T13:32:09.162862",
     "exception": false,
     "start_time": "2022-08-02T13:32:09.154815",
     "status": "completed"
    },
    "tags": []
   },
   "source": [
    "**¡¡¡ Need to change last DF. One row per image !!!**"
   ]
  },
  {
   "cell_type": "markdown",
   "id": "fb580f81",
   "metadata": {
    "papermill": {
     "duration": 0.007964,
     "end_time": "2022-08-02T13:32:09.179400",
     "exception": false,
     "start_time": "2022-08-02T13:32:09.171436",
     "status": "completed"
    },
    "tags": []
   },
   "source": [
    "Now, we have the studies (patients_to_train) and also the images to include (df[\"Images\"]).\n",
    "But we still need the labels.. for each Image.\n",
    "\n",
    "First, associate\n",
    "\n",
    "Image --> C1, C2, etc..\n",
    "\n",
    "Then \n",
    "\n",
    "Image --> C1, C2, etc.. --> Fractured or not?"
   ]
  },
  {
   "cell_type": "markdown",
   "id": "03896722",
   "metadata": {
    "papermill": {
     "duration": 0.008136,
     "end_time": "2022-08-02T13:32:09.195692",
     "exception": false,
     "start_time": "2022-08-02T13:32:09.187556",
     "status": "completed"
    },
    "tags": []
   },
   "source": [
    "# TEST IMAGE"
   ]
  },
  {
   "cell_type": "code",
   "execution_count": 15,
   "id": "bfb983b0",
   "metadata": {
    "execution": {
     "iopub.execute_input": "2022-08-02T13:32:09.213547Z",
     "iopub.status.busy": "2022-08-02T13:32:09.213196Z",
     "iopub.status.idle": "2022-08-02T13:32:09.519902Z",
     "shell.execute_reply": "2022-08-02T13:32:09.518942Z"
    },
    "papermill": {
     "duration": 0.318274,
     "end_time": "2022-08-02T13:32:09.522154",
     "exception": false,
     "start_time": "2022-08-02T13:32:09.203880",
     "status": "completed"
    },
    "tags": []
   },
   "outputs": [
    {
     "name": "stdout",
     "output_type": "stream",
     "text": [
      "../input/rsna-2022-cervical-spine-fracture-detection/test_images/1.2.826.0.1.3680043.22327/\n",
      "../input/rsna-2022-cervical-spine-fracture-detection/test_images/1.2.826.0.1.3680043.22327/60.dcm\n"
     ]
    },
    {
     "data": {
      "text/plain": [
       "<matplotlib.image.AxesImage at 0x7f2790fcc990>"
      ]
     },
     "execution_count": 15,
     "metadata": {},
     "output_type": "execute_result"
    },
    {
     "data": {
      "image/png": "[encoded data removed]",
      "text/plain": [
       "<Figure size 432x288 with 1 Axes>"
      ]
     },
     "metadata": {
      "needs_background": "light"
     },
     "output_type": "display_data"
    }
   ],
   "source": [
    "test_path = \"../input/rsna-2022-cervical-spine-fracture-detection/test_images/\"\n",
    "studies = os.listdir(test_path)\n",
    "\n",
    "\n",
    "path_study = test_path + studies[0] + \"/\"\n",
    "print(path_study)\n",
    "\n",
    "images = os.listdir(path_study)\n",
    "path_image = path_study + images[102]\n",
    "print(path_image)\n",
    "\n",
    "ds = dicom.dcmread(path_image)\n",
    "plt.imshow(ds.pixel_array)"
   ]
  },
  {
   "cell_type": "code",
   "execution_count": 16,
   "id": "51be8c12",
   "metadata": {
    "execution": {
     "iopub.execute_input": "2022-08-02T13:32:09.542247Z",
     "iopub.status.busy": "2022-08-02T13:32:09.541669Z",
     "iopub.status.idle": "2022-08-02T13:32:09.800913Z",
     "shell.execute_reply": "2022-08-02T13:32:09.799940Z"
    },
    "papermill": {
     "duration": 0.271679,
     "end_time": "2022-08-02T13:32:09.803249",
     "exception": false,
     "start_time": "2022-08-02T13:32:09.531570",
     "status": "completed"
    },
    "tags": []
   },
   "outputs": [],
   "source": [
    "import pydicom as dicom\n",
    "from pydicom import dcmread\n",
    "import matplotlib.pylab as plt\n",
    "import cv2 \n",
    "\n",
    "#bad_images \n",
    "\n",
    "# studies = os.listdir(\"../input/rsna-2022-cervical-spine-fracture-detection/train_images\")\n",
    "\n",
    "# for study in studies:\n",
    "#     path_study = \"../input/rsna-2022-cervical-spine-fracture-detection/train_images/\" + study + \"/\"\n",
    "#     images = os.listdir(path_study)\n",
    "#     for image in images:\n",
    "#         ds = dcmread(path_study + image)\n",
    "#         try: \n",
    "#             trying = ds.pixel_array\n",
    "#         except:\n",
    "#             print(path_study)\n",
    "#             break"
   ]
  },
  {
   "cell_type": "code",
   "execution_count": 17,
   "id": "624df2cc",
   "metadata": {
    "execution": {
     "iopub.execute_input": "2022-08-02T13:32:09.824112Z",
     "iopub.status.busy": "2022-08-02T13:32:09.823262Z",
     "iopub.status.idle": "2022-08-02T13:32:09.839707Z",
     "shell.execute_reply": "2022-08-02T13:32:09.838800Z"
    },
    "papermill": {
     "duration": 0.028511,
     "end_time": "2022-08-02T13:32:09.841718",
     "exception": false,
     "start_time": "2022-08-02T13:32:09.813207",
     "status": "completed"
    },
    "tags": []
   },
   "outputs": [
    {
     "name": "stdout",
     "output_type": "stream",
     "text": [
      " ../input/rsna-2022-cervical-spine-fracture-detection/train_images/1.2.826.0.1.3680043.2668/\n"
     ]
    }
   ],
   "source": [
    "f = open(\"../input/badimages/bad_images.txt\", \"r\")\n",
    "bad_images = []\n",
    "\n",
    "# reading the file\n",
    "data = f.read()\n",
    "  \n",
    "# replacing end of line('/n') with ' ' and\n",
    "# splitting the text it further when '.' is seen.\n",
    "bad_images = data.replace('\\n', ' ').split(\",\")\n",
    "  \n",
    "# printing the data\n",
    "print(bad_images[1])\n",
    "f.close()"
   ]
  },
  {
   "cell_type": "markdown",
   "id": "3ebede56",
   "metadata": {
    "papermill": {
     "duration": 0.00929,
     "end_time": "2022-08-02T13:32:09.859887",
     "exception": false,
     "start_time": "2022-08-02T13:32:09.850597",
     "status": "completed"
    },
    "tags": []
   },
   "source": [
    "## Presenting Images"
   ]
  },
  {
   "cell_type": "code",
   "execution_count": 18,
   "id": "3ca57708",
   "metadata": {
    "execution": {
     "iopub.execute_input": "2022-08-02T13:32:09.879639Z",
     "iopub.status.busy": "2022-08-02T13:32:09.879328Z",
     "iopub.status.idle": "2022-08-02T13:32:10.249905Z",
     "shell.execute_reply": "2022-08-02T13:32:10.248960Z"
    },
    "papermill": {
     "duration": 0.38315,
     "end_time": "2022-08-02T13:32:10.252244",
     "exception": false,
     "start_time": "2022-08-02T13:32:09.869094",
     "status": "completed"
    },
    "tags": []
   },
   "outputs": [
    {
     "name": "stdout",
     "output_type": "stream",
     "text": [
      "../input/rsna-2022-cervical-spine-fracture-detection/train_images/1.2.826.0.1.3680043.17625/\n",
      "../input/rsna-2022-cervical-spine-fracture-detection/train_images/1.2.826.0.1.3680043.17625/66.dcm\n"
     ]
    },
    {
     "data": {
      "text/plain": [
       "<matplotlib.image.AxesImage at 0x7f279018b490>"
      ]
     },
     "execution_count": 18,
     "metadata": {},
     "output_type": "execute_result"
    },
    {
     "data": {
      "image/png": "[encoded data removed]",
      "text/plain": [
       "<Figure size 432x288 with 1 Axes>"
      ]
     },
     "metadata": {
      "needs_background": "light"
     },
     "output_type": "display_data"
    }
   ],
   "source": [
    "train_path = \"../input/rsna-2022-cervical-spine-fracture-detection/train_images/\"\n",
    "studies = os.listdir(train_path)\n",
    "\n",
    "\n",
    "path_study = train_path + studies[0] + \"/\"\n",
    "print(path_study)\n",
    "\n",
    "images = os.listdir(path_study)\n",
    "path_image = path_study + images[100]\n",
    "print(path_image)\n",
    "\n",
    "ds = dicom.dcmread(path_image)\n",
    "plt.imshow(ds.pixel_array)"
   ]
  },
  {
   "cell_type": "code",
   "execution_count": 19,
   "id": "5d4d1de4",
   "metadata": {
    "execution": {
     "iopub.execute_input": "2022-08-02T13:32:10.274641Z",
     "iopub.status.busy": "2022-08-02T13:32:10.274342Z",
     "iopub.status.idle": "2022-08-02T13:32:10.280506Z",
     "shell.execute_reply": "2022-08-02T13:32:10.279562Z"
    },
    "papermill": {
     "duration": 0.020729,
     "end_time": "2022-08-02T13:32:10.283640",
     "exception": false,
     "start_time": "2022-08-02T13:32:10.262911",
     "status": "completed"
    },
    "tags": []
   },
   "outputs": [
    {
     "name": "stdout",
     "output_type": "stream",
     "text": [
      "Dataset.file_meta -------------------------------\n",
      "(0002, 0001) File Meta Information Version       OB: b'\\x00\\x01'\n",
      "(0002, 0002) Media Storage SOP Class UID         UI: CT Image Storage\n",
      "(0002, 0003) Media Storage SOP Instance UID      UI: 1.2.826.0.1.3680043.17625.1.66\n",
      "(0002, 0010) Transfer Syntax UID                 UI: Explicit VR Little Endian\n",
      "(0002, 0012) Implementation Class UID            UI: 1.2.40.0.13.1.1.1\n",
      "(0002, 0013) Implementation Version Name         SH: 'PYDICOM 2.3.0'\n",
      "-------------------------------------------------\n",
      "(0008, 0018) SOP Instance UID                    UI: 1.2.826.0.1.3680043.17625.1.66\n",
      "(0008, 0023) Content Date                        DA: '20220727'\n",
      "(0008, 0033) Content Time                        TM: '182650.710321'\n",
      "(0010, 0010) Patient's Name                      PN: '17625'\n",
      "(0010, 0020) Patient ID                          LO: '17625'\n",
      "(0018, 0050) Slice Thickness                     DS: '0.625'\n",
      "(0020, 000d) Study Instance UID                  UI: 1.2.826.0.1.3680043.17625\n",
      "(0020, 000e) Series Instance UID                 UI: 1.2.826.0.1.3680043.17625.1\n",
      "(0020, 0013) Instance Number                     IS: '66'\n",
      "(0020, 0032) Image Position (Patient)            DS: [-104.900, -25.900, -70.230]\n",
      "(0020, 0037) Image Orientation (Patient)         DS: [1.000000, 0.000000, 0.000000, 0.000000, 1.000000, 0.000000]\n",
      "(0028, 0002) Samples per Pixel                   US: 1\n",
      "(0028, 0004) Photometric Interpretation          CS: 'MONOCHROME2'\n",
      "(0028, 0010) Rows                                US: 512\n",
      "(0028, 0011) Columns                             US: 512\n",
      "(0028, 0030) Pixel Spacing                       DS: [0.277344, 0.277344]\n",
      "(0028, 0100) Bits Allocated                      US: 16\n",
      "(0028, 0101) Bits Stored                         US: 16\n",
      "(0028, 0102) High Bit                            US: 15\n",
      "(0028, 0103) Pixel Representation                US: 1\n",
      "(0028, 1050) Window Center                       DS: '400.0'\n",
      "(0028, 1051) Window Width                        DS: '2500.0'\n",
      "(0028, 1052) Rescale Intercept                   DS: '-1024.0'\n",
      "(0028, 1053) Rescale Slope                       DS: '1.0'\n",
      "(7fe0, 0010) Pixel Data                          OW: Array of 524288 elements\n"
     ]
    }
   ],
   "source": [
    "print(ds)"
   ]
  },
  {
   "cell_type": "code",
   "execution_count": 20,
   "id": "3dc67a1c",
   "metadata": {
    "execution": {
     "iopub.execute_input": "2022-08-02T13:32:10.306234Z",
     "iopub.status.busy": "2022-08-02T13:32:10.305177Z",
     "iopub.status.idle": "2022-08-02T13:32:10.316820Z",
     "shell.execute_reply": "2022-08-02T13:32:10.315940Z"
    },
    "papermill": {
     "duration": 0.02493,
     "end_time": "2022-08-02T13:32:10.318766",
     "exception": false,
     "start_time": "2022-08-02T13:32:10.293836",
     "status": "completed"
    },
    "tags": []
   },
   "outputs": [
    {
     "data": {
      "text/html": [
       "<div>\n",
       "<style scoped>\n",
       "    .dataframe tbody tr th:only-of-type {\n",
       "        vertical-align: middle;\n",
       "    }\n",
       "\n",
       "    .dataframe tbody tr th {\n",
       "        vertical-align: top;\n",
       "    }\n",
       "\n",
       "    .dataframe thead th {\n",
       "        text-align: right;\n",
       "    }\n",
       "</style>\n",
       "<table border=\"1\" class=\"dataframe\">\n",
       "  <thead>\n",
       "    <tr style=\"text-align: right;\">\n",
       "      <th></th>\n",
       "      <th>StudyInstanceUID</th>\n",
       "      <th>patient_overall</th>\n",
       "      <th>C1</th>\n",
       "      <th>C2</th>\n",
       "      <th>C3</th>\n",
       "      <th>C4</th>\n",
       "      <th>C5</th>\n",
       "      <th>C6</th>\n",
       "      <th>C7</th>\n",
       "    </tr>\n",
       "  </thead>\n",
       "  <tbody>\n",
       "    <tr>\n",
       "      <th>1645</th>\n",
       "      <td>1.2.826.0.1.3680043.17625</td>\n",
       "      <td>1</td>\n",
       "      <td>0</td>\n",
       "      <td>1</td>\n",
       "      <td>0</td>\n",
       "      <td>0</td>\n",
       "      <td>0</td>\n",
       "      <td>0</td>\n",
       "      <td>0</td>\n",
       "    </tr>\n",
       "  </tbody>\n",
       "</table>\n",
       "</div>"
      ],
      "text/plain": [
       "               StudyInstanceUID  patient_overall  C1  C2  C3  C4  C5  C6  C7\n",
       "1645  1.2.826.0.1.3680043.17625                1   0   1   0   0   0   0   0"
      ]
     },
     "execution_count": 20,
     "metadata": {},
     "output_type": "execute_result"
    }
   ],
   "source": [
    "# View above Study labels:\n",
    "\n",
    "train[train[\"StudyInstanceUID\"] == \"1.2.826.0.1.3680043.17625\"]"
   ]
  }
 ],
 "metadata": {
  "kernelspec": {
   "display_name": "Python 3",
   "language": "python",
   "name": "python3"
  },
  "language_info": {
   "codemirror_mode": {
    "name": "ipython",
    "version": 3
   },
   "file_extension": ".py",
   "mimetype": "text/x-python",
   "name": "python",
   "nbconvert_exporter": "python",
   "pygments_lexer": "ipython3",
   "version": "3.7.12"
  },
  "papermill": {
   "default_parameters": {},
   "duration": 304.373517,
   "end_time": "2022-08-02T13:32:10.849884",
   "environment_variables": {},
   "exception": null,
   "input_path": "__notebook__.ipynb",
   "output_path": "__notebook__.ipynb",
   "parameters": {},
   "start_time": "2022-08-02T13:27:06.476367",
   "version": "2.3.4"
  }
 },
 "nbformat": 4,
 "nbformat_minor": 5
}
