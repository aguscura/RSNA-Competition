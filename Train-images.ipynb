{
 "cells": [
  {
   "cell_type": "markdown",
   "id": "89bca03a",
   "metadata": {
    "papermill": {
     "duration": 0.006174,
     "end_time": "2022-07-30T23:41:46.443584",
     "exception": false,
     "start_time": "2022-07-30T23:41:46.437410",
     "status": "completed"
    },
    "tags": []
   },
   "source": [
    "\n",
    "\n"
   ]
  },
  {
   "cell_type": "markdown",
   "id": "0ef2813e",
   "metadata": {
    "papermill": {
     "duration": 0.004753,
     "end_time": "2022-07-30T23:41:46.453495",
     "exception": false,
     "start_time": "2022-07-30T23:41:46.448742",
     "status": "completed"
    },
    "tags": []
   },
   "source": [
    "# Competition goal\n",
    "\n",
    "* Identify fractures in CT scans of the cervical spine (neck) at both the level of a single vertebrae and the entire patient. \n",
    "* It's a **multi label classification task** with labels C1-C7 (seven cervical vertebrae).\n",
    "* There are supplemental files with another segmentation in the sagittal plane."
   ]
  },
  {
   "cell_type": "markdown",
   "id": "06c4587f",
   "metadata": {
    "papermill": {
     "duration": 0.004837,
     "end_time": "2022-07-30T23:41:46.463125",
     "exception": false,
     "start_time": "2022-07-30T23:41:46.458288",
     "status": "completed"
    },
    "tags": []
   },
   "source": [
    "# Prepare to start <a class=\"anchor\" id=\"prepare\"></a>\n",
    "\n",
    "## Loading packages"
   ]
  },
  {
   "cell_type": "code",
   "execution_count": 1,
   "id": "86970a24",
   "metadata": {
    "_kg_hide-input": true,
    "execution": {
     "iopub.execute_input": "2022-07-30T23:41:46.475512Z",
     "iopub.status.busy": "2022-07-30T23:41:46.474942Z",
     "iopub.status.idle": "2022-07-30T23:41:54.713581Z",
     "shell.execute_reply": "2022-07-30T23:41:54.712513Z"
    },
    "papermill": {
     "duration": 8.248417,
     "end_time": "2022-07-30T23:41:54.716475",
     "exception": false,
     "start_time": "2022-07-30T23:41:46.468058",
     "status": "completed"
    },
    "tags": []
   },
   "outputs": [],
   "source": [
    "import os\n",
    "\n",
    "import pandas as pd\n",
    "import numpy as np\n",
    "import matplotlib.pyplot as plt\n",
    "%matplotlib inline\n",
    "\n",
    "from PIL import Image\n",
    "import cv2\n",
    "from skimage.segmentation import mark_boundaries\n",
    "\n",
    "import tensorflow as tf\n",
    "\n",
    "from tqdm.notebook import tqdm\n",
    "import torch\n",
    "from torch.utils.data import Dataset, DataLoader\n",
    "from torch import nn\n",
    "\n",
    "import seaborn as sns\n",
    "sns.set()\n",
    "\n",
    "from lime import lime_image\n",
    "\n",
    "import shap"
   ]
  },
  {
   "cell_type": "markdown",
   "id": "4a16d726",
   "metadata": {
    "papermill": {
     "duration": 0.00519,
     "end_time": "2022-07-30T23:41:54.727254",
     "exception": false,
     "start_time": "2022-07-30T23:41:54.722064",
     "status": "completed"
    },
    "tags": []
   },
   "source": [
    "## Loading data"
   ]
  },
  {
   "cell_type": "code",
   "execution_count": 2,
   "id": "e01d046f",
   "metadata": {
    "execution": {
     "iopub.execute_input": "2022-07-30T23:41:54.739445Z",
     "iopub.status.busy": "2022-07-30T23:41:54.738379Z",
     "iopub.status.idle": "2022-07-30T23:41:54.754660Z",
     "shell.execute_reply": "2022-07-30T23:41:54.753646Z"
    },
    "papermill": {
     "duration": 0.02446,
     "end_time": "2022-07-30T23:41:54.756789",
     "exception": false,
     "start_time": "2022-07-30T23:41:54.732329",
     "status": "completed"
    },
    "tags": []
   },
   "outputs": [],
   "source": [
    "train = pd.read_csv(\"../input/rsna-2022-cervical-spine-fracture-detection/train.csv\")"
   ]
  },
  {
   "cell_type": "markdown",
   "id": "e67b1ad4",
   "metadata": {
    "papermill": {
     "duration": 0.005064,
     "end_time": "2022-07-30T23:41:54.766848",
     "exception": false,
     "start_time": "2022-07-30T23:41:54.761784",
     "status": "completed"
    },
    "tags": []
   },
   "source": [
    "# Exploratory analysis <a class=\"anchor\" id=\"eda\"></a>"
   ]
  },
  {
   "cell_type": "markdown",
   "id": "c8975251",
   "metadata": {
    "papermill": {
     "duration": 0.004643,
     "end_time": "2022-07-30T23:41:54.776649",
     "exception": false,
     "start_time": "2022-07-30T23:41:54.772006",
     "status": "completed"
    },
    "tags": []
   },
   "source": [
    "## What do we know about our training data?"
   ]
  },
  {
   "cell_type": "code",
   "execution_count": 3,
   "id": "27b5e46a",
   "metadata": {
    "execution": {
     "iopub.execute_input": "2022-07-30T23:41:54.787970Z",
     "iopub.status.busy": "2022-07-30T23:41:54.787368Z",
     "iopub.status.idle": "2022-07-30T23:41:54.807338Z",
     "shell.execute_reply": "2022-07-30T23:41:54.806456Z"
    },
    "papermill": {
     "duration": 0.027755,
     "end_time": "2022-07-30T23:41:54.809458",
     "exception": false,
     "start_time": "2022-07-30T23:41:54.781703",
     "status": "completed"
    },
    "tags": []
   },
   "outputs": [
    {
     "data": {
      "text/html": [
       "<div>\n",
       "<style scoped>\n",
       "    .dataframe tbody tr th:only-of-type {\n",
       "        vertical-align: middle;\n",
       "    }\n",
       "\n",
       "    .dataframe tbody tr th {\n",
       "        vertical-align: top;\n",
       "    }\n",
       "\n",
       "    .dataframe thead th {\n",
       "        text-align: right;\n",
       "    }\n",
       "</style>\n",
       "<table border=\"1\" class=\"dataframe\">\n",
       "  <thead>\n",
       "    <tr style=\"text-align: right;\">\n",
       "      <th></th>\n",
       "      <th>StudyInstanceUID</th>\n",
       "      <th>patient_overall</th>\n",
       "      <th>C1</th>\n",
       "      <th>C2</th>\n",
       "      <th>C3</th>\n",
       "      <th>C4</th>\n",
       "      <th>C5</th>\n",
       "      <th>C6</th>\n",
       "      <th>C7</th>\n",
       "    </tr>\n",
       "  </thead>\n",
       "  <tbody>\n",
       "    <tr>\n",
       "      <th>0</th>\n",
       "      <td>1.2.826.0.1.3680043.6200</td>\n",
       "      <td>1</td>\n",
       "      <td>1</td>\n",
       "      <td>1</td>\n",
       "      <td>0</td>\n",
       "      <td>0</td>\n",
       "      <td>0</td>\n",
       "      <td>0</td>\n",
       "      <td>0</td>\n",
       "    </tr>\n",
       "    <tr>\n",
       "      <th>1</th>\n",
       "      <td>1.2.826.0.1.3680043.27262</td>\n",
       "      <td>1</td>\n",
       "      <td>0</td>\n",
       "      <td>1</td>\n",
       "      <td>0</td>\n",
       "      <td>0</td>\n",
       "      <td>0</td>\n",
       "      <td>0</td>\n",
       "      <td>0</td>\n",
       "    </tr>\n",
       "    <tr>\n",
       "      <th>2</th>\n",
       "      <td>1.2.826.0.1.3680043.21561</td>\n",
       "      <td>1</td>\n",
       "      <td>0</td>\n",
       "      <td>1</td>\n",
       "      <td>0</td>\n",
       "      <td>0</td>\n",
       "      <td>0</td>\n",
       "      <td>0</td>\n",
       "      <td>0</td>\n",
       "    </tr>\n",
       "    <tr>\n",
       "      <th>3</th>\n",
       "      <td>1.2.826.0.1.3680043.12351</td>\n",
       "      <td>0</td>\n",
       "      <td>0</td>\n",
       "      <td>0</td>\n",
       "      <td>0</td>\n",
       "      <td>0</td>\n",
       "      <td>0</td>\n",
       "      <td>0</td>\n",
       "      <td>0</td>\n",
       "    </tr>\n",
       "    <tr>\n",
       "      <th>4</th>\n",
       "      <td>1.2.826.0.1.3680043.1363</td>\n",
       "      <td>1</td>\n",
       "      <td>0</td>\n",
       "      <td>0</td>\n",
       "      <td>0</td>\n",
       "      <td>0</td>\n",
       "      <td>1</td>\n",
       "      <td>0</td>\n",
       "      <td>0</td>\n",
       "    </tr>\n",
       "  </tbody>\n",
       "</table>\n",
       "</div>"
      ],
      "text/plain": [
       "            StudyInstanceUID  patient_overall  C1  C2  C3  C4  C5  C6  C7\n",
       "0   1.2.826.0.1.3680043.6200                1   1   1   0   0   0   0   0\n",
       "1  1.2.826.0.1.3680043.27262                1   0   1   0   0   0   0   0\n",
       "2  1.2.826.0.1.3680043.21561                1   0   1   0   0   0   0   0\n",
       "3  1.2.826.0.1.3680043.12351                0   0   0   0   0   0   0   0\n",
       "4   1.2.826.0.1.3680043.1363                1   0   0   0   0   1   0   0"
      ]
     },
     "execution_count": 3,
     "metadata": {},
     "output_type": "execute_result"
    }
   ],
   "source": [
    "train.head()"
   ]
  },
  {
   "cell_type": "code",
   "execution_count": 4,
   "id": "d000eab1",
   "metadata": {
    "execution": {
     "iopub.execute_input": "2022-07-30T23:41:54.822330Z",
     "iopub.status.busy": "2022-07-30T23:41:54.820882Z",
     "iopub.status.idle": "2022-07-30T23:41:54.829288Z",
     "shell.execute_reply": "2022-07-30T23:41:54.828468Z"
    },
    "papermill": {
     "duration": 0.016826,
     "end_time": "2022-07-30T23:41:54.831543",
     "exception": false,
     "start_time": "2022-07-30T23:41:54.814717",
     "status": "completed"
    },
    "tags": []
   },
   "outputs": [
    {
     "data": {
      "text/plain": [
       "(2019, 9)"
      ]
     },
     "execution_count": 4,
     "metadata": {},
     "output_type": "execute_result"
    }
   ],
   "source": [
    "train.shape"
   ]
  },
  {
   "cell_type": "markdown",
   "id": "92bad906",
   "metadata": {
    "papermill": {
     "duration": 0.00551,
     "end_time": "2022-07-30T23:41:54.842342",
     "exception": false,
     "start_time": "2022-07-30T23:41:54.836832",
     "status": "completed"
    },
    "tags": []
   },
   "source": [
    "* The **StudyInstanceUID** The study ID.\n",
    "* The **patient_overall** The patient level outcome, i.e. if any of the vertebrae are fractured.\n",
    "* **C1-C7** Whether the given vertebrae is fractured."
   ]
  },
  {
   "cell_type": "markdown",
   "id": "9ab73d51",
   "metadata": {
    "papermill": {
     "duration": 0.005423,
     "end_time": "2022-07-30T23:41:54.853204",
     "exception": false,
     "start_time": "2022-07-30T23:41:54.847781",
     "status": "completed"
    },
    "tags": []
   },
   "source": [
    "2019 Studies in train."
   ]
  },
  {
   "cell_type": "code",
   "execution_count": 5,
   "id": "ba5d1fee",
   "metadata": {
    "execution": {
     "iopub.execute_input": "2022-07-30T23:41:54.865351Z",
     "iopub.status.busy": "2022-07-30T23:41:54.865071Z",
     "iopub.status.idle": "2022-07-30T23:41:55.153676Z",
     "shell.execute_reply": "2022-07-30T23:41:55.152642Z"
    },
    "papermill": {
     "duration": 0.297421,
     "end_time": "2022-07-30T23:41:55.155944",
     "exception": false,
     "start_time": "2022-07-30T23:41:54.858523",
     "status": "completed"
    },
    "tags": []
   },
   "outputs": [
    {
     "name": "stdout",
     "output_type": "stream",
     "text": [
      "1058 146 285 73 108 162 277 393\n"
     ]
    },
    {
     "data": {
      "image/png": "[encoded data removed]",
      "text/plain": [
       "<Figure size 432x288 with 1 Axes>"
      ]
     },
     "metadata": {},
     "output_type": "display_data"
    }
   ],
   "source": [
    "C_0 = train[train.patient_overall == 0][\"StudyInstanceUID\"].count()\n",
    "C_1 = train[train.C1 == 1][\"StudyInstanceUID\"].count()   \n",
    "C_2 = train[train.C2 == 1][\"StudyInstanceUID\"].count()   \n",
    "C_3 = train[train.C3 == 1][\"StudyInstanceUID\"].count()   \n",
    "C_4 = train[train.C4 == 1][\"StudyInstanceUID\"].count()   \n",
    "C_5 = train[train.C5 == 1][\"StudyInstanceUID\"].count()   \n",
    "C_6 = train[train.C6 == 1][\"StudyInstanceUID\"].count()   \n",
    "C_7 = train[train.C7 == 1][\"StudyInstanceUID\"].count()   \n",
    "\n",
    "labels = [\"C_0\", \"C_1\", \"C_2\", \"C_3\", \"C_4\", \"C_5\", \"C_6\", \"C_7\"]\n",
    "values = [C_0, C_1, C_2, C_3, C_4, C_5, C_6, C_7]\n",
    "\n",
    "print(C_0, C_1, C_2, C_3, C_4, C_5, C_6, C_7)\n",
    "\n",
    "plt.bar(labels, values)\n",
    "  \n",
    "plt.xlabel(\"Vertebrae\")\n",
    "plt.ylabel(\"Fractures\")\n",
    "plt.title(\"Grouped fractures\")\n",
    "plt.legend()\n",
    "plt.show()"
   ]
  },
  {
   "cell_type": "markdown",
   "id": "44c6e787",
   "metadata": {
    "papermill": {
     "duration": 0.005377,
     "end_time": "2022-07-30T23:41:55.167059",
     "exception": false,
     "start_time": "2022-07-30T23:41:55.161682",
     "status": "completed"
    },
    "tags": []
   },
   "source": [
    "**Imbalanced classification problem**"
   ]
  },
  {
   "cell_type": "markdown",
   "id": "b2691b8f",
   "metadata": {
    "papermill": {
     "duration": 0.005313,
     "end_time": "2022-07-30T23:41:55.178442",
     "exception": false,
     "start_time": "2022-07-30T23:41:55.173129",
     "status": "completed"
    },
    "tags": []
   },
   "source": [
    "# Images"
   ]
  },
  {
   "cell_type": "code",
   "execution_count": 6,
   "id": "a2ea4be2",
   "metadata": {
    "execution": {
     "iopub.execute_input": "2022-07-30T23:41:55.191312Z",
     "iopub.status.busy": "2022-07-30T23:41:55.190360Z",
     "iopub.status.idle": "2022-07-30T23:42:48.728590Z",
     "shell.execute_reply": "2022-07-30T23:42:48.727358Z"
    },
    "papermill": {
     "duration": 53.547643,
     "end_time": "2022-07-30T23:42:48.731618",
     "exception": false,
     "start_time": "2022-07-30T23:41:55.183975",
     "status": "completed"
    },
    "tags": []
   },
   "outputs": [
    {
     "name": "stdout",
     "output_type": "stream",
     "text": [
      "\r\n",
      "Downloading and Extracting Packages\r\n",
      "######################################################################## | 100% \r\n",
      "Preparing transaction: - \b\bdone\r\n",
      "Verifying transaction: | \b\bdone\r\n",
      "Executing transaction: - \b\b\\ \b\bdone\r\n",
      "\r\n",
      "Downloading and Extracting Packages\r\n",
      "######################################################################## | 100% \r\n",
      "Preparing transaction: - \b\bdone\r\n",
      "Verifying transaction: | \b\bdone\r\n",
      "Executing transaction: - \b\bdone\r\n",
      "\r\n",
      "Downloading and Extracting Packages\r\n",
      "######################################################################## | 100% \r\n",
      "Preparing transaction: - \b\bdone\r\n",
      "Verifying transaction: | \b\bdone\r\n",
      "Executing transaction: - \b\b\\ \b\b| \b\b/ \b\b- \b\b\\ \b\b| \b\b/ \b\b- \b\b\\ \b\b| \b\b/ \b\b- \b\b\\ \b\b| \b\b/ \b\b- \b\b\\ \b\b| \b\b/ \b\b- \b\bdone\r\n",
      "\r\n",
      "Downloading and Extracting Packages\r\n",
      "######################################################################## | 100% \r\n",
      "Preparing transaction: - \b\bdone\r\n",
      "Verifying transaction: | \b\bdone\r\n",
      "Executing transaction: - \b\b\\ \b\bdone\r\n",
      "\r\n",
      "Downloading and Extracting Packages\r\n",
      "######################################################################## | 100% \r\n",
      "Preparing transaction: - \b\bdone\r\n",
      "Verifying transaction: | \b\bdone\r\n",
      "Executing transaction: - \b\b\\ \b\b| \b\b/ \b\b- \b\b\\ \b\b| \b\b/ \b\bdone\r\n"
     ]
    }
   ],
   "source": [
    "!conda install '../input/gdcm-notebook/libgcc-ng-9.3.0-h2828fa1_19.tar.bz2' -c conda-forge -y\n",
    "!conda install '../input/gdcm-notebook/gdcm-2.8.9-py37h500ead1_1.tar.bz2' -c conda-forge -y\n",
    "!conda install '../input/gdcm-notebook/conda-4.10.1-py37h89c1867_0.tar.bz2' -c conda-forge -y\n",
    "!conda install '../input/gdcm-notebook/certifi-2020.12.5-py37h89c1867_1.tar.bz2' -c conda-forge -y\n",
    "!conda install '../input/gdcm-notebook/openssl-1.1.1k-h7f98852_0.tar.bz2' -c conda-forge -y"
   ]
  },
  {
   "cell_type": "code",
   "execution_count": 7,
   "id": "54183bca",
   "metadata": {
    "execution": {
     "iopub.execute_input": "2022-07-30T23:42:48.753540Z",
     "iopub.status.busy": "2022-07-30T23:42:48.753191Z",
     "iopub.status.idle": "2022-07-30T23:42:49.133527Z",
     "shell.execute_reply": "2022-07-30T23:42:49.132528Z"
    },
    "papermill": {
     "duration": 0.394291,
     "end_time": "2022-07-30T23:42:49.136235",
     "exception": false,
     "start_time": "2022-07-30T23:42:48.741944",
     "status": "completed"
    },
    "tags": []
   },
   "outputs": [],
   "source": [
    "import pydicom as dicom\n",
    "from pydicom import dcmread\n",
    "import matplotlib.pylab as plt\n",
    "import cv2 \n",
    "\n",
    "#bad_images \n",
    "\n",
    "# studies = os.listdir(\"../input/rsna-2022-cervical-spine-fracture-detection/train_images\")\n",
    "\n",
    "# for study in studies:\n",
    "#     path_study = \"../input/rsna-2022-cervical-spine-fracture-detection/train_images/\" + study + \"/\"\n",
    "#     images = os.listdir(path_study)\n",
    "#     for image in images:\n",
    "#         ds = dcmread(path_study + image)\n",
    "#         try: \n",
    "#             trying = ds.pixel_array\n",
    "#         except:\n",
    "#             print(path_study)\n",
    "#             break"
   ]
  },
  {
   "cell_type": "code",
   "execution_count": 8,
   "id": "e2fbb2b8",
   "metadata": {
    "execution": {
     "iopub.execute_input": "2022-07-30T23:42:49.157646Z",
     "iopub.status.busy": "2022-07-30T23:42:49.157317Z",
     "iopub.status.idle": "2022-07-30T23:42:49.167868Z",
     "shell.execute_reply": "2022-07-30T23:42:49.166491Z"
    },
    "papermill": {
     "duration": 0.023702,
     "end_time": "2022-07-30T23:42:49.170308",
     "exception": false,
     "start_time": "2022-07-30T23:42:49.146606",
     "status": "completed"
    },
    "tags": []
   },
   "outputs": [
    {
     "name": "stdout",
     "output_type": "stream",
     "text": [
      " ../input/rsna-2022-cervical-spine-fracture-detection/train_images/1.2.826.0.1.3680043.2668/\n"
     ]
    }
   ],
   "source": [
    "f = open(\"../input/badimages/bad_images.txt\", \"r\")\n",
    "bad_images = []\n",
    "\n",
    "# reading the file\n",
    "data = f.read()\n",
    "  \n",
    "# replacing end of line('/n') with ' ' and\n",
    "# splitting the text it further when '.' is seen.\n",
    "bad_images = data.replace('\\n', ' ').split(\",\")\n",
    "  \n",
    "# printing the data\n",
    "print(bad_images[1])\n",
    "f.close()"
   ]
  },
  {
   "cell_type": "markdown",
   "id": "0ad5a6c7",
   "metadata": {
    "papermill": {
     "duration": 0.009527,
     "end_time": "2022-07-30T23:42:49.189802",
     "exception": false,
     "start_time": "2022-07-30T23:42:49.180275",
     "status": "completed"
    },
    "tags": []
   },
   "source": [
    "## Choosing a model"
   ]
  }
 ],
 "metadata": {
  "kernelspec": {
   "display_name": "Python 3",
   "language": "python",
   "name": "python3"
  },
  "language_info": {
   "codemirror_mode": {
    "name": "ipython",
    "version": 3
   },
   "file_extension": ".py",
   "mimetype": "text/x-python",
   "name": "python",
   "nbconvert_exporter": "python",
   "pygments_lexer": "ipython3",
   "version": "3.7.12"
  },
  "papermill": {
   "default_parameters": {},
   "duration": 74.306286,
   "end_time": "2022-07-30T23:42:51.979700",
   "environment_variables": {},
   "exception": null,
   "input_path": "__notebook__.ipynb",
   "output_path": "__notebook__.ipynb",
   "parameters": {},
   "start_time": "2022-07-30T23:41:37.673414",
   "version": "2.3.4"
  }
 },
 "nbformat": 4,
 "nbformat_minor": 5
}
