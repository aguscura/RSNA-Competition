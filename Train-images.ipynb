{
 "cells": [
  {
   "cell_type": "markdown",
   "id": "4d118086",
   "metadata": {
    "papermill": {
     "duration": 0.005933,
     "end_time": "2022-07-31T00:18:31.702511",
     "exception": false,
     "start_time": "2022-07-31T00:18:31.696578",
     "status": "completed"
    },
    "tags": []
   },
   "source": [
    "\n",
    "\n"
   ]
  },
  {
   "cell_type": "markdown",
   "id": "940516b5",
   "metadata": {
    "papermill": {
     "duration": 0.004141,
     "end_time": "2022-07-31T00:18:31.711177",
     "exception": false,
     "start_time": "2022-07-31T00:18:31.707036",
     "status": "completed"
    },
    "tags": []
   },
   "source": [
    "# Competition goal\n",
    "\n",
    "* Identify fractures in CT scans of the cervical spine (neck) at both the level of a single vertebrae and the entire patient. \n",
    "* It's a **multi label classification task** with labels C1-C7 (seven cervical vertebrae).\n",
    "* There are supplemental files with another segmentation in the sagittal plane."
   ]
  },
  {
   "cell_type": "markdown",
   "id": "c6f4c6ad",
   "metadata": {
    "papermill": {
     "duration": 0.00415,
     "end_time": "2022-07-31T00:18:31.719727",
     "exception": false,
     "start_time": "2022-07-31T00:18:31.715577",
     "status": "completed"
    },
    "tags": []
   },
   "source": [
    "# Prepare to start <a class=\"anchor\" id=\"prepare\"></a>\n",
    "\n",
    "## Loading packages"
   ]
  },
  {
   "cell_type": "code",
   "execution_count": 1,
   "id": "ffb3c59d",
   "metadata": {
    "_kg_hide-input": true,
    "execution": {
     "iopub.execute_input": "2022-07-31T00:18:31.730397Z",
     "iopub.status.busy": "2022-07-31T00:18:31.729876Z",
     "iopub.status.idle": "2022-07-31T00:18:40.493694Z",
     "shell.execute_reply": "2022-07-31T00:18:40.492582Z"
    },
    "papermill": {
     "duration": 8.77241,
     "end_time": "2022-07-31T00:18:40.496518",
     "exception": false,
     "start_time": "2022-07-31T00:18:31.724108",
     "status": "completed"
    },
    "tags": []
   },
   "outputs": [],
   "source": [
    "import os\n",
    "\n",
    "import pandas as pd\n",
    "import numpy as np\n",
    "import matplotlib.pyplot as plt\n",
    "%matplotlib inline\n",
    "\n",
    "from PIL import Image\n",
    "import cv2\n",
    "from skimage.segmentation import mark_boundaries\n",
    "\n",
    "import tensorflow as tf\n",
    "\n",
    "from tqdm.notebook import tqdm\n",
    "import torch\n",
    "from torch.utils.data import Dataset, DataLoader\n",
    "from torch import nn\n",
    "\n",
    "import seaborn as sns\n",
    "sns.set()\n",
    "\n",
    "from lime import lime_image\n",
    "\n",
    "import shap"
   ]
  },
  {
   "cell_type": "markdown",
   "id": "9ff0f53e",
   "metadata": {
    "papermill": {
     "duration": 0.004293,
     "end_time": "2022-07-31T00:18:40.505592",
     "exception": false,
     "start_time": "2022-07-31T00:18:40.501299",
     "status": "completed"
    },
    "tags": []
   },
   "source": [
    "## Loading data"
   ]
  },
  {
   "cell_type": "code",
   "execution_count": 2,
   "id": "c4487cf4",
   "metadata": {
    "execution": {
     "iopub.execute_input": "2022-07-31T00:18:40.517167Z",
     "iopub.status.busy": "2022-07-31T00:18:40.515434Z",
     "iopub.status.idle": "2022-07-31T00:18:40.537705Z",
     "shell.execute_reply": "2022-07-31T00:18:40.536864Z"
    },
    "papermill": {
     "duration": 0.029837,
     "end_time": "2022-07-31T00:18:40.539722",
     "exception": false,
     "start_time": "2022-07-31T00:18:40.509885",
     "status": "completed"
    },
    "tags": []
   },
   "outputs": [],
   "source": [
    "train = pd.read_csv(\"../input/rsna-2022-cervical-spine-fracture-detection/train.csv\")"
   ]
  },
  {
   "cell_type": "markdown",
   "id": "8ad56ca5",
   "metadata": {
    "papermill": {
     "duration": 0.004652,
     "end_time": "2022-07-31T00:18:40.548907",
     "exception": false,
     "start_time": "2022-07-31T00:18:40.544255",
     "status": "completed"
    },
    "tags": []
   },
   "source": [
    "# Exploratory analysis <a class=\"anchor\" id=\"eda\"></a>"
   ]
  },
  {
   "cell_type": "markdown",
   "id": "f2404bb9",
   "metadata": {
    "papermill": {
     "duration": 0.004145,
     "end_time": "2022-07-31T00:18:40.557397",
     "exception": false,
     "start_time": "2022-07-31T00:18:40.553252",
     "status": "completed"
    },
    "tags": []
   },
   "source": [
    "## What do we know about our training data?"
   ]
  },
  {
   "cell_type": "code",
   "execution_count": 3,
   "id": "2c011d30",
   "metadata": {
    "execution": {
     "iopub.execute_input": "2022-07-31T00:18:40.567577Z",
     "iopub.status.busy": "2022-07-31T00:18:40.567258Z",
     "iopub.status.idle": "2022-07-31T00:18:40.583768Z",
     "shell.execute_reply": "2022-07-31T00:18:40.582767Z"
    },
    "papermill": {
     "duration": 0.024837,
     "end_time": "2022-07-31T00:18:40.586650",
     "exception": false,
     "start_time": "2022-07-31T00:18:40.561813",
     "status": "completed"
    },
    "tags": []
   },
   "outputs": [
    {
     "data": {
      "text/html": [
       "<div>\n",
       "<style scoped>\n",
       "    .dataframe tbody tr th:only-of-type {\n",
       "        vertical-align: middle;\n",
       "    }\n",
       "\n",
       "    .dataframe tbody tr th {\n",
       "        vertical-align: top;\n",
       "    }\n",
       "\n",
       "    .dataframe thead th {\n",
       "        text-align: right;\n",
       "    }\n",
       "</style>\n",
       "<table border=\"1\" class=\"dataframe\">\n",
       "  <thead>\n",
       "    <tr style=\"text-align: right;\">\n",
       "      <th></th>\n",
       "      <th>StudyInstanceUID</th>\n",
       "      <th>patient_overall</th>\n",
       "      <th>C1</th>\n",
       "      <th>C2</th>\n",
       "      <th>C3</th>\n",
       "      <th>C4</th>\n",
       "      <th>C5</th>\n",
       "      <th>C6</th>\n",
       "      <th>C7</th>\n",
       "    </tr>\n",
       "  </thead>\n",
       "  <tbody>\n",
       "    <tr>\n",
       "      <th>0</th>\n",
       "      <td>1.2.826.0.1.3680043.6200</td>\n",
       "      <td>1</td>\n",
       "      <td>1</td>\n",
       "      <td>1</td>\n",
       "      <td>0</td>\n",
       "      <td>0</td>\n",
       "      <td>0</td>\n",
       "      <td>0</td>\n",
       "      <td>0</td>\n",
       "    </tr>\n",
       "    <tr>\n",
       "      <th>1</th>\n",
       "      <td>1.2.826.0.1.3680043.27262</td>\n",
       "      <td>1</td>\n",
       "      <td>0</td>\n",
       "      <td>1</td>\n",
       "      <td>0</td>\n",
       "      <td>0</td>\n",
       "      <td>0</td>\n",
       "      <td>0</td>\n",
       "      <td>0</td>\n",
       "    </tr>\n",
       "    <tr>\n",
       "      <th>2</th>\n",
       "      <td>1.2.826.0.1.3680043.21561</td>\n",
       "      <td>1</td>\n",
       "      <td>0</td>\n",
       "      <td>1</td>\n",
       "      <td>0</td>\n",
       "      <td>0</td>\n",
       "      <td>0</td>\n",
       "      <td>0</td>\n",
       "      <td>0</td>\n",
       "    </tr>\n",
       "    <tr>\n",
       "      <th>3</th>\n",
       "      <td>1.2.826.0.1.3680043.12351</td>\n",
       "      <td>0</td>\n",
       "      <td>0</td>\n",
       "      <td>0</td>\n",
       "      <td>0</td>\n",
       "      <td>0</td>\n",
       "      <td>0</td>\n",
       "      <td>0</td>\n",
       "      <td>0</td>\n",
       "    </tr>\n",
       "    <tr>\n",
       "      <th>4</th>\n",
       "      <td>1.2.826.0.1.3680043.1363</td>\n",
       "      <td>1</td>\n",
       "      <td>0</td>\n",
       "      <td>0</td>\n",
       "      <td>0</td>\n",
       "      <td>0</td>\n",
       "      <td>1</td>\n",
       "      <td>0</td>\n",
       "      <td>0</td>\n",
       "    </tr>\n",
       "  </tbody>\n",
       "</table>\n",
       "</div>"
      ],
      "text/plain": [
       "            StudyInstanceUID  patient_overall  C1  C2  C3  C4  C5  C6  C7\n",
       "0   1.2.826.0.1.3680043.6200                1   1   1   0   0   0   0   0\n",
       "1  1.2.826.0.1.3680043.27262                1   0   1   0   0   0   0   0\n",
       "2  1.2.826.0.1.3680043.21561                1   0   1   0   0   0   0   0\n",
       "3  1.2.826.0.1.3680043.12351                0   0   0   0   0   0   0   0\n",
       "4   1.2.826.0.1.3680043.1363                1   0   0   0   0   1   0   0"
      ]
     },
     "execution_count": 3,
     "metadata": {},
     "output_type": "execute_result"
    }
   ],
   "source": [
    "train.head()"
   ]
  },
  {
   "cell_type": "code",
   "execution_count": 4,
   "id": "9652c872",
   "metadata": {
    "execution": {
     "iopub.execute_input": "2022-07-31T00:18:40.597010Z",
     "iopub.status.busy": "2022-07-31T00:18:40.596704Z",
     "iopub.status.idle": "2022-07-31T00:18:40.602257Z",
     "shell.execute_reply": "2022-07-31T00:18:40.601406Z"
    },
    "papermill": {
     "duration": 0.012869,
     "end_time": "2022-07-31T00:18:40.604149",
     "exception": false,
     "start_time": "2022-07-31T00:18:40.591280",
     "status": "completed"
    },
    "tags": []
   },
   "outputs": [
    {
     "data": {
      "text/plain": [
       "(2019, 9)"
      ]
     },
     "execution_count": 4,
     "metadata": {},
     "output_type": "execute_result"
    }
   ],
   "source": [
    "train.shape"
   ]
  },
  {
   "cell_type": "markdown",
   "id": "6e5ddbda",
   "metadata": {
    "papermill": {
     "duration": 0.004426,
     "end_time": "2022-07-31T00:18:40.613604",
     "exception": false,
     "start_time": "2022-07-31T00:18:40.609178",
     "status": "completed"
    },
    "tags": []
   },
   "source": [
    "* The **StudyInstanceUID** The study ID.\n",
    "* The **patient_overall** The patient level outcome, i.e. if any of the vertebrae are fractured.\n",
    "* **C1-C7** Whether the given vertebrae is fractured."
   ]
  },
  {
   "cell_type": "markdown",
   "id": "cf296d96",
   "metadata": {
    "papermill": {
     "duration": 0.004467,
     "end_time": "2022-07-31T00:18:40.622644",
     "exception": false,
     "start_time": "2022-07-31T00:18:40.618177",
     "status": "completed"
    },
    "tags": []
   },
   "source": [
    "2019 Studies in train."
   ]
  },
  {
   "cell_type": "code",
   "execution_count": 5,
   "id": "175098b5",
   "metadata": {
    "execution": {
     "iopub.execute_input": "2022-07-31T00:18:40.632897Z",
     "iopub.status.busy": "2022-07-31T00:18:40.632644Z",
     "iopub.status.idle": "2022-07-31T00:18:40.879141Z",
     "shell.execute_reply": "2022-07-31T00:18:40.878233Z"
    },
    "papermill": {
     "duration": 0.253911,
     "end_time": "2022-07-31T00:18:40.881153",
     "exception": false,
     "start_time": "2022-07-31T00:18:40.627242",
     "status": "completed"
    },
    "tags": []
   },
   "outputs": [
    {
     "name": "stdout",
     "output_type": "stream",
     "text": [
      "1058 146 285 73 108 162 277 393\n"
     ]
    },
    {
     "data": {
      "image/png": "[encoded data removed]",
      "text/plain": [
       "<Figure size 432x288 with 1 Axes>"
      ]
     },
     "metadata": {},
     "output_type": "display_data"
    }
   ],
   "source": [
    "C_0 = train[train.patient_overall == 0][\"StudyInstanceUID\"].count()\n",
    "C_1 = train[train.C1 == 1][\"StudyInstanceUID\"].count()   \n",
    "C_2 = train[train.C2 == 1][\"StudyInstanceUID\"].count()   \n",
    "C_3 = train[train.C3 == 1][\"StudyInstanceUID\"].count()   \n",
    "C_4 = train[train.C4 == 1][\"StudyInstanceUID\"].count()   \n",
    "C_5 = train[train.C5 == 1][\"StudyInstanceUID\"].count()   \n",
    "C_6 = train[train.C6 == 1][\"StudyInstanceUID\"].count()   \n",
    "C_7 = train[train.C7 == 1][\"StudyInstanceUID\"].count()   \n",
    "\n",
    "labels = [\"C_0\", \"C_1\", \"C_2\", \"C_3\", \"C_4\", \"C_5\", \"C_6\", \"C_7\"]\n",
    "values = [C_0, C_1, C_2, C_3, C_4, C_5, C_6, C_7]\n",
    "\n",
    "print(C_0, C_1, C_2, C_3, C_4, C_5, C_6, C_7)\n",
    "\n",
    "plt.bar(labels, values)\n",
    "  \n",
    "plt.xlabel(\"Vertebrae\")\n",
    "plt.ylabel(\"Fractures\")\n",
    "plt.title(\"Grouped fractures\")\n",
    "plt.legend()\n",
    "plt.show()"
   ]
  },
  {
   "cell_type": "markdown",
   "id": "16d4c132",
   "metadata": {
    "papermill": {
     "duration": 0.005276,
     "end_time": "2022-07-31T00:18:40.891799",
     "exception": false,
     "start_time": "2022-07-31T00:18:40.886523",
     "status": "completed"
    },
    "tags": []
   },
   "source": [
    "**Imbalanced classification problem**"
   ]
  },
  {
   "cell_type": "markdown",
   "id": "d1fa3f7b",
   "metadata": {
    "papermill": {
     "duration": 0.004802,
     "end_time": "2022-07-31T00:18:40.901633",
     "exception": false,
     "start_time": "2022-07-31T00:18:40.896831",
     "status": "completed"
    },
    "tags": []
   },
   "source": [
    "# Images"
   ]
  },
  {
   "cell_type": "code",
   "execution_count": 6,
   "id": "c7f4692a",
   "metadata": {
    "execution": {
     "iopub.execute_input": "2022-07-31T00:18:40.913157Z",
     "iopub.status.busy": "2022-07-31T00:18:40.912829Z",
     "iopub.status.idle": "2022-07-31T00:19:31.304641Z",
     "shell.execute_reply": "2022-07-31T00:19:31.303521Z"
    },
    "papermill": {
     "duration": 50.400287,
     "end_time": "2022-07-31T00:19:31.307058",
     "exception": false,
     "start_time": "2022-07-31T00:18:40.906771",
     "status": "completed"
    },
    "tags": []
   },
   "outputs": [
    {
     "name": "stdout",
     "output_type": "stream",
     "text": [
      "\r\n",
      "Downloading and Extracting Packages\r\n",
      "######################################################################## | 100% \r\n",
      "Preparing transaction: - \b\bdone\r\n",
      "Verifying transaction: | \b\bdone\r\n",
      "Executing transaction: - \b\b\\ \b\bdone\r\n",
      "\r\n",
      "Downloading and Extracting Packages\r\n",
      "######################################################################## | 100% \r\n",
      "Preparing transaction: - \b\bdone\r\n",
      "Verifying transaction: | \b\bdone\r\n",
      "Executing transaction: - \b\bdone\r\n",
      "\r\n",
      "Downloading and Extracting Packages\r\n",
      "######################################################################## | 100% \r\n",
      "Preparing transaction: - \b\bdone\r\n",
      "Verifying transaction: | \b\bdone\r\n",
      "Executing transaction: - \b\b\\ \b\b| \b\b/ \b\b- \b\b\\ \b\b| \b\b/ \b\b- \b\b\\ \b\b| \b\b/ \b\b- \b\b\\ \b\b| \b\b/ \b\b- \b\b\\ \b\b| \b\b/ \b\b- \b\b\\ \b\b| \b\b/ \b\bdone\r\n",
      "\r\n",
      "Downloading and Extracting Packages\r\n",
      "######################################################################## | 100% \r\n",
      "Preparing transaction: - \b\bdone\r\n",
      "Verifying transaction: | \b\bdone\r\n",
      "Executing transaction: - \b\bdone\r\n",
      "\r\n",
      "Downloading and Extracting Packages\r\n",
      "######################################################################## | 100% \r\n",
      "Preparing transaction: - \b\bdone\r\n",
      "Verifying transaction: | \b\bdone\r\n",
      "Executing transaction: - \b\b\\ \b\b| \b\b/ \b\b- \b\b\\ \b\b| \b\b/ \b\bdone\r\n"
     ]
    }
   ],
   "source": [
    "!conda install '../input/gdcm-notebook/libgcc-ng-9.3.0-h2828fa1_19.tar.bz2' -c conda-forge -y\n",
    "!conda install '../input/gdcm-notebook/gdcm-2.8.9-py37h500ead1_1.tar.bz2' -c conda-forge -y\n",
    "!conda install '../input/gdcm-notebook/conda-4.10.1-py37h89c1867_0.tar.bz2' -c conda-forge -y\n",
    "!conda install '../input/gdcm-notebook/certifi-2020.12.5-py37h89c1867_1.tar.bz2' -c conda-forge -y\n",
    "!conda install '../input/gdcm-notebook/openssl-1.1.1k-h7f98852_0.tar.bz2' -c conda-forge -y"
   ]
  },
  {
   "cell_type": "code",
   "execution_count": 7,
   "id": "8d0c1516",
   "metadata": {
    "execution": {
     "iopub.execute_input": "2022-07-31T00:19:31.326427Z",
     "iopub.status.busy": "2022-07-31T00:19:31.325690Z",
     "iopub.status.idle": "2022-07-31T00:19:31.714353Z",
     "shell.execute_reply": "2022-07-31T00:19:31.713398Z"
    },
    "papermill": {
     "duration": 0.400878,
     "end_time": "2022-07-31T00:19:31.716721",
     "exception": false,
     "start_time": "2022-07-31T00:19:31.315843",
     "status": "completed"
    },
    "tags": []
   },
   "outputs": [],
   "source": [
    "import pydicom as dicom\n",
    "from pydicom import dcmread\n",
    "import matplotlib.pylab as plt\n",
    "import cv2 \n",
    "\n",
    "#bad_images \n",
    "\n",
    "# studies = os.listdir(\"../input/rsna-2022-cervical-spine-fracture-detection/train_images\")\n",
    "\n",
    "# for study in studies:\n",
    "#     path_study = \"../input/rsna-2022-cervical-spine-fracture-detection/train_images/\" + study + \"/\"\n",
    "#     images = os.listdir(path_study)\n",
    "#     for image in images:\n",
    "#         ds = dcmread(path_study + image)\n",
    "#         try: \n",
    "#             trying = ds.pixel_array\n",
    "#         except:\n",
    "#             print(path_study)\n",
    "#             break"
   ]
  },
  {
   "cell_type": "code",
   "execution_count": 8,
   "id": "69b3676d",
   "metadata": {
    "execution": {
     "iopub.execute_input": "2022-07-31T00:19:31.735668Z",
     "iopub.status.busy": "2022-07-31T00:19:31.735131Z",
     "iopub.status.idle": "2022-07-31T00:19:31.746088Z",
     "shell.execute_reply": "2022-07-31T00:19:31.745002Z"
    },
    "papermill": {
     "duration": 0.023215,
     "end_time": "2022-07-31T00:19:31.748942",
     "exception": false,
     "start_time": "2022-07-31T00:19:31.725727",
     "status": "completed"
    },
    "tags": []
   },
   "outputs": [
    {
     "name": "stdout",
     "output_type": "stream",
     "text": [
      " ../input/rsna-2022-cervical-spine-fracture-detection/train_images/1.2.826.0.1.3680043.2668/\n"
     ]
    }
   ],
   "source": [
    "f = open(\"../input/badimages/bad_images.txt\", \"r\")\n",
    "bad_images = []\n",
    "\n",
    "# reading the file\n",
    "data = f.read()\n",
    "  \n",
    "# replacing end of line('/n') with ' ' and\n",
    "# splitting the text it further when '.' is seen.\n",
    "bad_images = data.replace('\\n', ' ').split(\",\")\n",
    "  \n",
    "# printing the data\n",
    "print(bad_images[1])\n",
    "f.close()"
   ]
  },
  {
   "cell_type": "markdown",
   "id": "96bc1bdf",
   "metadata": {
    "papermill": {
     "duration": 0.00855,
     "end_time": "2022-07-31T00:19:31.766098",
     "exception": false,
     "start_time": "2022-07-31T00:19:31.757548",
     "status": "completed"
    },
    "tags": []
   },
   "source": [
    "## Presenting Images"
   ]
  },
  {
   "cell_type": "code",
   "execution_count": 9,
   "id": "62841f83",
   "metadata": {
    "execution": {
     "iopub.execute_input": "2022-07-31T00:19:31.784710Z",
     "iopub.status.busy": "2022-07-31T00:19:31.783879Z",
     "iopub.status.idle": "2022-07-31T00:19:32.165213Z",
     "shell.execute_reply": "2022-07-31T00:19:32.164270Z"
    },
    "papermill": {
     "duration": 0.392937,
     "end_time": "2022-07-31T00:19:32.167407",
     "exception": false,
     "start_time": "2022-07-31T00:19:31.774470",
     "status": "completed"
    },
    "tags": []
   },
   "outputs": [
    {
     "name": "stdout",
     "output_type": "stream",
     "text": [
      "../input/rsna-2022-cervical-spine-fracture-detection/train_images/1.2.826.0.1.3680043.17625/\n",
      "../input/rsna-2022-cervical-spine-fracture-detection/train_images/1.2.826.0.1.3680043.17625/95.dcm\n"
     ]
    },
    {
     "data": {
      "text/plain": [
       "<matplotlib.image.AxesImage at 0x7f655f3e1690>"
      ]
     },
     "execution_count": 9,
     "metadata": {},
     "output_type": "execute_result"
    },
    {
     "data": {
      "image/png": "[encoded data removed]",
      "text/plain": [
       "<Figure size 432x288 with 1 Axes>"
      ]
     },
     "metadata": {},
     "output_type": "display_data"
    }
   ],
   "source": [
    "train_path = \"../input/rsna-2022-cervical-spine-fracture-detection/train_images/\"\n",
    "studies = os.listdir(train_path)\n",
    "\n",
    "\n",
    "path_study = train_path + studies[0] + \"/\"\n",
    "print(path_study)\n",
    "\n",
    "images = os.listdir(path_study)\n",
    "path_image = path_study + images[8]\n",
    "print(path_image)\n",
    "\n",
    "ds = dicom.dcmread(path_image)\n",
    "plt.imshow(ds.pixel_array)"
   ]
  },
  {
   "cell_type": "code",
   "execution_count": 10,
   "id": "9abb9898",
   "metadata": {
    "execution": {
     "iopub.execute_input": "2022-07-31T00:19:32.188934Z",
     "iopub.status.busy": "2022-07-31T00:19:32.188150Z",
     "iopub.status.idle": "2022-07-31T00:19:32.200284Z",
     "shell.execute_reply": "2022-07-31T00:19:32.199286Z"
    },
    "papermill": {
     "duration": 0.025296,
     "end_time": "2022-07-31T00:19:32.202928",
     "exception": false,
     "start_time": "2022-07-31T00:19:32.177632",
     "status": "completed"
    },
    "tags": []
   },
   "outputs": [
    {
     "data": {
      "text/html": [
       "<div>\n",
       "<style scoped>\n",
       "    .dataframe tbody tr th:only-of-type {\n",
       "        vertical-align: middle;\n",
       "    }\n",
       "\n",
       "    .dataframe tbody tr th {\n",
       "        vertical-align: top;\n",
       "    }\n",
       "\n",
       "    .dataframe thead th {\n",
       "        text-align: right;\n",
       "    }\n",
       "</style>\n",
       "<table border=\"1\" class=\"dataframe\">\n",
       "  <thead>\n",
       "    <tr style=\"text-align: right;\">\n",
       "      <th></th>\n",
       "      <th>StudyInstanceUID</th>\n",
       "      <th>patient_overall</th>\n",
       "      <th>C1</th>\n",
       "      <th>C2</th>\n",
       "      <th>C3</th>\n",
       "      <th>C4</th>\n",
       "      <th>C5</th>\n",
       "      <th>C6</th>\n",
       "      <th>C7</th>\n",
       "    </tr>\n",
       "  </thead>\n",
       "  <tbody>\n",
       "    <tr>\n",
       "      <th>1645</th>\n",
       "      <td>1.2.826.0.1.3680043.17625</td>\n",
       "      <td>1</td>\n",
       "      <td>0</td>\n",
       "      <td>1</td>\n",
       "      <td>0</td>\n",
       "      <td>0</td>\n",
       "      <td>0</td>\n",
       "      <td>0</td>\n",
       "      <td>0</td>\n",
       "    </tr>\n",
       "  </tbody>\n",
       "</table>\n",
       "</div>"
      ],
      "text/plain": [
       "               StudyInstanceUID  patient_overall  C1  C2  C3  C4  C5  C6  C7\n",
       "1645  1.2.826.0.1.3680043.17625                1   0   1   0   0   0   0   0"
      ]
     },
     "execution_count": 10,
     "metadata": {},
     "output_type": "execute_result"
    }
   ],
   "source": [
    "# View above Study labels:\n",
    "\n",
    "train[train[\"StudyInstanceUID\"] == \"1.2.826.0.1.3680043.17625\"]"
   ]
  }
 ],
 "metadata": {
  "kernelspec": {
   "display_name": "Python 3",
   "language": "python",
   "name": "python3"
  },
  "language_info": {
   "codemirror_mode": {
    "name": "ipython",
    "version": 3
   },
   "file_extension": ".py",
   "mimetype": "text/x-python",
   "name": "python",
   "nbconvert_exporter": "python",
   "pygments_lexer": "ipython3",
   "version": "3.7.12"
  },
  "papermill": {
   "default_parameters": {},
   "duration": 71.479093,
   "end_time": "2022-07-31T00:19:35.044191",
   "environment_variables": {},
   "exception": null,
   "input_path": "__notebook__.ipynb",
   "output_path": "__notebook__.ipynb",
   "parameters": {},
   "start_time": "2022-07-31T00:18:23.565098",
   "version": "2.3.4"
  }
 },
 "nbformat": 4,
 "nbformat_minor": 5
}
