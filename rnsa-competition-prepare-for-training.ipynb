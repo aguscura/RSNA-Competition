{
 "cells": [
  {
   "cell_type": "markdown",
   "id": "b8b695da",
   "metadata": {
    "papermill": {
     "duration": 0.00527,
     "end_time": "2022-08-02T20:21:48.805225",
     "exception": false,
     "start_time": "2022-08-02T20:21:48.799955",
     "status": "completed"
    },
    "tags": []
   },
   "source": [
    "\n",
    "\n"
   ]
  },
  {
   "cell_type": "markdown",
   "id": "dac0b534",
   "metadata": {
    "papermill": {
     "duration": 0.002674,
     "end_time": "2022-08-02T20:21:48.811581",
     "exception": false,
     "start_time": "2022-08-02T20:21:48.808907",
     "status": "completed"
    },
    "tags": []
   },
   "source": [
    "# Prepare to start <a class=\"anchor\" id=\"prepare\"></a>\n",
    "\n",
    "## Loading packages"
   ]
  },
  {
   "cell_type": "code",
   "execution_count": 1,
   "id": "ec9367a0",
   "metadata": {
    "_kg_hide-input": true,
    "execution": {
     "iopub.execute_input": "2022-08-02T20:21:48.823657Z",
     "iopub.status.busy": "2022-08-02T20:21:48.822988Z",
     "iopub.status.idle": "2022-08-02T20:21:49.230771Z",
     "shell.execute_reply": "2022-08-02T20:21:49.229285Z"
    },
    "papermill": {
     "duration": 0.419765,
     "end_time": "2022-08-02T20:21:49.235407",
     "exception": false,
     "start_time": "2022-08-02T20:21:48.815642",
     "status": "completed"
    },
    "tags": []
   },
   "outputs": [],
   "source": [
    "import os\n",
    "import pydicom as dicom\n",
    "import pandas as pd\n",
    "import numpy as np\n",
    "import nibabel as nib\n",
    "import matplotlib.pyplot as plt"
   ]
  },
  {
   "cell_type": "code",
   "execution_count": 2,
   "id": "a5f9cc9d",
   "metadata": {
    "execution": {
     "iopub.execute_input": "2022-08-02T20:21:49.248537Z",
     "iopub.status.busy": "2022-08-02T20:21:49.247986Z",
     "iopub.status.idle": "2022-08-02T20:21:49.274079Z",
     "shell.execute_reply": "2022-08-02T20:21:49.272748Z"
    },
    "papermill": {
     "duration": 0.035865,
     "end_time": "2022-08-02T20:21:49.276807",
     "exception": false,
     "start_time": "2022-08-02T20:21:49.240942",
     "status": "completed"
    },
    "tags": []
   },
   "outputs": [],
   "source": [
    "train = pd.read_csv(\"../input/rsna-2022-cervical-spine-fracture-detection/train.csv\")"
   ]
  },
  {
   "cell_type": "markdown",
   "id": "2336fcf8",
   "metadata": {
    "papermill": {
     "duration": 0.004357,
     "end_time": "2022-08-02T20:21:49.285982",
     "exception": false,
     "start_time": "2022-08-02T20:21:49.281625",
     "status": "completed"
    },
    "tags": []
   },
   "source": [
    "# Select Images to train our model"
   ]
  },
  {
   "cell_type": "code",
   "execution_count": 3,
   "id": "5056acda",
   "metadata": {
    "execution": {
     "iopub.execute_input": "2022-08-02T20:21:49.295730Z",
     "iopub.status.busy": "2022-08-02T20:21:49.295013Z",
     "iopub.status.idle": "2022-08-02T20:27:37.703645Z",
     "shell.execute_reply": "2022-08-02T20:27:37.702133Z"
    },
    "papermill": {
     "duration": 348.41676,
     "end_time": "2022-08-02T20:27:37.706807",
     "exception": false,
     "start_time": "2022-08-02T20:21:49.290047",
     "status": "completed"
    },
    "tags": []
   },
   "outputs": [],
   "source": [
    "segmentations_path = \"../input/rsna-2022-cervical-spine-fracture-detection/segmentations/\"\n",
    "patients_to_train = os.listdir(segmentations_path)\n",
    "df = pd.DataFrame()\n",
    "\n",
    "for i in range (0, len(patients_to_train)):\n",
    "    \n",
    "\n",
    "    segmentations = nib.load(segmentations_path + patients_to_train[i]).get_fdata()[:, ::-1, ::-1].transpose(2, 1, 0)\n",
    "    study = patients_to_train[i][:-4] #removing extention\n",
    "    \n",
    "    for j in range (0, segmentations.shape[0]):\n",
    "        if (np.unique(segmentations[j]).size == 2): #returns the IMAGES that only shows one vertebrae in the axial pane. (note that some images contains multiple bones and that can be confusing for the algorithm)\n",
    "              \n",
    "            label = np.unique(segmentations[j])[1] #detecting label. ex: C1.\n",
    "            if (label == 1): # after detecting label, checking if it's fractured or not. '0' NOT FRACTURED - '1' FRACTURED. \"values[0] contains this feature\"\n",
    "                fractured = train[train.StudyInstanceUID == study][\"C1\"].values[0]\n",
    "            elif (label == 2):\n",
    "                fractured = train[train.StudyInstanceUID == study][\"C2\"].values[0]\n",
    "            elif (label == 3):\n",
    "                fractured = train[train.StudyInstanceUID == study][\"C3\"].values[0]\n",
    "            elif (label == 4):\n",
    "                fractured = train[train.StudyInstanceUID == study][\"C4\"].values[0]\n",
    "            elif (label == 5):\n",
    "                fractured = train[train.StudyInstanceUID == study][\"C5\"].values[0]\n",
    "            elif (label == 6):\n",
    "                fractured = train[train.StudyInstanceUID == study][\"C6\"].values[0]\n",
    "            elif (label == 7):\n",
    "                fractured = train[train.StudyInstanceUID == study][\"C7\"].values[0]\n",
    "          \n",
    "\n",
    "            new_row = {'StudyInstanceUID': study, 'Image': j, 'Label': label, 'Fractured': fractured}\n",
    "            df = df.append(new_row, ignore_index=True)\n"
   ]
  },
  {
   "cell_type": "code",
   "execution_count": 4,
   "id": "dcd8585c",
   "metadata": {
    "execution": {
     "iopub.execute_input": "2022-08-02T20:27:37.713968Z",
     "iopub.status.busy": "2022-08-02T20:27:37.713644Z",
     "iopub.status.idle": "2022-08-02T20:27:37.742546Z",
     "shell.execute_reply": "2022-08-02T20:27:37.741088Z"
    },
    "papermill": {
     "duration": 0.036663,
     "end_time": "2022-08-02T20:27:37.746511",
     "exception": false,
     "start_time": "2022-08-02T20:27:37.709848",
     "status": "completed"
    },
    "tags": []
   },
   "outputs": [
    {
     "data": {
      "text/html": [
       "<div>\n",
       "<style scoped>\n",
       "    .dataframe tbody tr th:only-of-type {\n",
       "        vertical-align: middle;\n",
       "    }\n",
       "\n",
       "    .dataframe tbody tr th {\n",
       "        vertical-align: top;\n",
       "    }\n",
       "\n",
       "    .dataframe thead th {\n",
       "        text-align: right;\n",
       "    }\n",
       "</style>\n",
       "<table border=\"1\" class=\"dataframe\">\n",
       "  <thead>\n",
       "    <tr style=\"text-align: right;\">\n",
       "      <th></th>\n",
       "      <th>index</th>\n",
       "      <th>StudyInstanceUID</th>\n",
       "      <th>Image</th>\n",
       "      <th>Label</th>\n",
       "      <th>Fractured</th>\n",
       "    </tr>\n",
       "  </thead>\n",
       "  <tbody>\n",
       "    <tr>\n",
       "      <th>0</th>\n",
       "      <td>0</td>\n",
       "      <td>1.2.826.0.1.3680043.780</td>\n",
       "      <td>60.0</td>\n",
       "      <td>1.0</td>\n",
       "      <td>0.0</td>\n",
       "    </tr>\n",
       "    <tr>\n",
       "      <th>1</th>\n",
       "      <td>1</td>\n",
       "      <td>1.2.826.0.1.3680043.780</td>\n",
       "      <td>61.0</td>\n",
       "      <td>1.0</td>\n",
       "      <td>0.0</td>\n",
       "    </tr>\n",
       "    <tr>\n",
       "      <th>2</th>\n",
       "      <td>2</td>\n",
       "      <td>1.2.826.0.1.3680043.780</td>\n",
       "      <td>62.0</td>\n",
       "      <td>1.0</td>\n",
       "      <td>0.0</td>\n",
       "    </tr>\n",
       "    <tr>\n",
       "      <th>3</th>\n",
       "      <td>3</td>\n",
       "      <td>1.2.826.0.1.3680043.780</td>\n",
       "      <td>84.0</td>\n",
       "      <td>2.0</td>\n",
       "      <td>1.0</td>\n",
       "    </tr>\n",
       "    <tr>\n",
       "      <th>4</th>\n",
       "      <td>4</td>\n",
       "      <td>1.2.826.0.1.3680043.780</td>\n",
       "      <td>85.0</td>\n",
       "      <td>2.0</td>\n",
       "      <td>1.0</td>\n",
       "    </tr>\n",
       "    <tr>\n",
       "      <th>...</th>\n",
       "      <td>...</td>\n",
       "      <td>...</td>\n",
       "      <td>...</td>\n",
       "      <td>...</td>\n",
       "      <td>...</td>\n",
       "    </tr>\n",
       "    <tr>\n",
       "      <th>3781</th>\n",
       "      <td>4915</td>\n",
       "      <td>1.2.826.0.1.3680043.31077</td>\n",
       "      <td>373.0</td>\n",
       "      <td>7.0</td>\n",
       "      <td>0.0</td>\n",
       "    </tr>\n",
       "    <tr>\n",
       "      <th>3782</th>\n",
       "      <td>4916</td>\n",
       "      <td>1.2.826.0.1.3680043.31077</td>\n",
       "      <td>374.0</td>\n",
       "      <td>7.0</td>\n",
       "      <td>0.0</td>\n",
       "    </tr>\n",
       "    <tr>\n",
       "      <th>3783</th>\n",
       "      <td>4917</td>\n",
       "      <td>1.2.826.0.1.3680043.31077</td>\n",
       "      <td>375.0</td>\n",
       "      <td>7.0</td>\n",
       "      <td>0.0</td>\n",
       "    </tr>\n",
       "    <tr>\n",
       "      <th>3784</th>\n",
       "      <td>4918</td>\n",
       "      <td>1.2.826.0.1.3680043.31077</td>\n",
       "      <td>376.0</td>\n",
       "      <td>7.0</td>\n",
       "      <td>0.0</td>\n",
       "    </tr>\n",
       "    <tr>\n",
       "      <th>3785</th>\n",
       "      <td>4919</td>\n",
       "      <td>1.2.826.0.1.3680043.31077</td>\n",
       "      <td>377.0</td>\n",
       "      <td>7.0</td>\n",
       "      <td>0.0</td>\n",
       "    </tr>\n",
       "  </tbody>\n",
       "</table>\n",
       "<p>3786 rows × 5 columns</p>\n",
       "</div>"
      ],
      "text/plain": [
       "      index           StudyInstanceUID  Image  Label  Fractured\n",
       "0         0    1.2.826.0.1.3680043.780   60.0    1.0        0.0\n",
       "1         1    1.2.826.0.1.3680043.780   61.0    1.0        0.0\n",
       "2         2    1.2.826.0.1.3680043.780   62.0    1.0        0.0\n",
       "3         3    1.2.826.0.1.3680043.780   84.0    2.0        1.0\n",
       "4         4    1.2.826.0.1.3680043.780   85.0    2.0        1.0\n",
       "...     ...                        ...    ...    ...        ...\n",
       "3781   4915  1.2.826.0.1.3680043.31077  373.0    7.0        0.0\n",
       "3782   4916  1.2.826.0.1.3680043.31077  374.0    7.0        0.0\n",
       "3783   4917  1.2.826.0.1.3680043.31077  375.0    7.0        0.0\n",
       "3784   4918  1.2.826.0.1.3680043.31077  376.0    7.0        0.0\n",
       "3785   4919  1.2.826.0.1.3680043.31077  377.0    7.0        0.0\n",
       "\n",
       "[3786 rows x 5 columns]"
      ]
     },
     "execution_count": 4,
     "metadata": {},
     "output_type": "execute_result"
    }
   ],
   "source": [
    "df_final = df[df[\"Label\"]<8]\n",
    "df_final.reset_index(inplace=True)\n",
    "df_final"
   ]
  },
  {
   "cell_type": "code",
   "execution_count": 5,
   "id": "d886c6e4",
   "metadata": {
    "execution": {
     "iopub.execute_input": "2022-08-02T20:27:37.753833Z",
     "iopub.status.busy": "2022-08-02T20:27:37.753504Z",
     "iopub.status.idle": "2022-08-02T20:27:37.775927Z",
     "shell.execute_reply": "2022-08-02T20:27:37.774766Z"
    },
    "papermill": {
     "duration": 0.029464,
     "end_time": "2022-08-02T20:27:37.778963",
     "exception": false,
     "start_time": "2022-08-02T20:27:37.749499",
     "status": "completed"
    },
    "tags": []
   },
   "outputs": [],
   "source": [
    "df_final.to_csv(\"train_filtered.csv\")"
   ]
  }
 ],
 "metadata": {
  "kernelspec": {
   "display_name": "Python 3",
   "language": "python",
   "name": "python3"
  },
  "language_info": {
   "codemirror_mode": {
    "name": "ipython",
    "version": 3
   },
   "file_extension": ".py",
   "mimetype": "text/x-python",
   "name": "python",
   "nbconvert_exporter": "python",
   "pygments_lexer": "ipython3",
   "version": "3.7.12"
  },
  "papermill": {
   "default_parameters": {},
   "duration": 359.347677,
   "end_time": "2022-08-02T20:27:38.405739",
   "environment_variables": {},
   "exception": null,
   "input_path": "__notebook__.ipynb",
   "output_path": "__notebook__.ipynb",
   "parameters": {},
   "start_time": "2022-08-02T20:21:39.058062",
   "version": "2.3.4"
  }
 },
 "nbformat": 4,
 "nbformat_minor": 5
}
